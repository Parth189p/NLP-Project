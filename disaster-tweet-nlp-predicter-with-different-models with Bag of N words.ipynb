{
 "cells": [
  {
   "cell_type": "code",
   "execution_count": 1,
   "id": "1a1c3b6d",
   "metadata": {
    "_cell_guid": "b1076dfc-b9ad-4769-8c92-a6c4dae69d19",
    "_uuid": "8f2839f25d086af736a60e9eeb907d3b93b6e0e5",
    "execution": {
     "iopub.execute_input": "2023-05-23T05:17:00.617276Z",
     "iopub.status.busy": "2023-05-23T05:17:00.616320Z",
     "iopub.status.idle": "2023-05-23T05:17:00.634922Z",
     "shell.execute_reply": "2023-05-23T05:17:00.633114Z"
    },
    "papermill": {
     "duration": 0.04007,
     "end_time": "2023-05-23T05:17:00.638864",
     "exception": false,
     "start_time": "2023-05-23T05:17:00.598794",
     "status": "completed"
    },
    "tags": []
   },
   "outputs": [
    {
     "name": "stdout",
     "output_type": "stream",
     "text": [
      "/kaggle/input/nlp-getting-started/sample_submission.csv\n",
      "/kaggle/input/nlp-getting-started/train.csv\n",
      "/kaggle/input/nlp-getting-started/test.csv\n"
     ]
    }
   ],
   "source": [
    "# This Python 3 environment comes with many helpful analytics libraries installed\n",
    "# It is defined by the kaggle/python Docker image: https://github.com/kaggle/docker-python\n",
    "# For example, here's several helpful packages to load\n",
    "\n",
    "import numpy as np # linear algebra\n",
    "import pandas as pd # data processing, CSV file I/O (e.g. pd.read_csv)\n",
    "\n",
    "# Input data files are available in the read-only \"../input/\" directory\n",
    "# For example, running this (by clicking run or pressing Shift+Enter) will list all files under the input directory\n",
    "\n",
    "import os\n",
    "for dirname, _, filenames in os.walk('/kaggle/input'):\n",
    "    for filename in filenames:\n",
    "        print(os.path.join(dirname, filename))\n",
    "\n",
    "# You can write up to 20GB to the current directory (/kaggle/working/) that gets preserved as output when you create a version using \"Save & Run All\" \n",
    "# You can also write temporary files to /kaggle/temp/, but they won't be saved outside of the current session"
   ]
  },
  {
   "cell_type": "code",
   "execution_count": 2,
   "id": "16d2cd7e",
   "metadata": {
    "execution": {
     "iopub.execute_input": "2023-05-23T05:17:00.669392Z",
     "iopub.status.busy": "2023-05-23T05:17:00.668967Z",
     "iopub.status.idle": "2023-05-23T05:17:02.316196Z",
     "shell.execute_reply": "2023-05-23T05:17:02.315205Z"
    },
    "papermill": {
     "duration": 1.665801,
     "end_time": "2023-05-23T05:17:02.319040",
     "exception": false,
     "start_time": "2023-05-23T05:17:00.653239",
     "status": "completed"
    },
    "tags": []
   },
   "outputs": [
    {
     "name": "stderr",
     "output_type": "stream",
     "text": [
      "/opt/conda/lib/python3.10/site-packages/scipy/__init__.py:146: UserWarning: A NumPy version >=1.16.5 and <1.23.0 is required for this version of SciPy (detected version 1.23.5\n",
      "  warnings.warn(f\"A NumPy version >={np_minversion} and <{np_maxversion}\"\n"
     ]
    }
   ],
   "source": [
    "import matplotlib.pyplot as plt\n",
    "import seaborn as sns"
   ]
  },
  {
   "cell_type": "code",
   "execution_count": 3,
   "id": "febc615f",
   "metadata": {
    "execution": {
     "iopub.execute_input": "2023-05-23T05:17:02.349982Z",
     "iopub.status.busy": "2023-05-23T05:17:02.349066Z",
     "iopub.status.idle": "2023-05-23T05:17:02.439861Z",
     "shell.execute_reply": "2023-05-23T05:17:02.438757Z"
    },
    "papermill": {
     "duration": 0.109036,
     "end_time": "2023-05-23T05:17:02.442757",
     "exception": false,
     "start_time": "2023-05-23T05:17:02.333721",
     "status": "completed"
    },
    "tags": []
   },
   "outputs": [],
   "source": [
    "train_data=pd.read_csv(\"/kaggle/input/nlp-getting-started/train.csv\")\n",
    "test_data=pd.read_csv(\"/kaggle/input/nlp-getting-started/test.csv\")"
   ]
  },
  {
   "cell_type": "code",
   "execution_count": 4,
   "id": "a4edd934",
   "metadata": {
    "execution": {
     "iopub.execute_input": "2023-05-23T05:17:02.472974Z",
     "iopub.status.busy": "2023-05-23T05:17:02.472545Z",
     "iopub.status.idle": "2023-05-23T05:17:02.479620Z",
     "shell.execute_reply": "2023-05-23T05:17:02.478571Z"
    },
    "papermill": {
     "duration": 0.026823,
     "end_time": "2023-05-23T05:17:02.483742",
     "exception": false,
     "start_time": "2023-05-23T05:17:02.456919",
     "status": "completed"
    },
    "tags": []
   },
   "outputs": [],
   "source": [
    "df=train_data\n",
    "df1=test_data"
   ]
  },
  {
   "cell_type": "code",
   "execution_count": 5,
   "id": "f0f39f5e",
   "metadata": {
    "execution": {
     "iopub.execute_input": "2023-05-23T05:17:02.514925Z",
     "iopub.status.busy": "2023-05-23T05:17:02.514367Z",
     "iopub.status.idle": "2023-05-23T05:17:02.528389Z",
     "shell.execute_reply": "2023-05-23T05:17:02.526998Z"
    },
    "papermill": {
     "duration": 0.034106,
     "end_time": "2023-05-23T05:17:02.532739",
     "exception": false,
     "start_time": "2023-05-23T05:17:02.498633",
     "status": "completed"
    },
    "tags": []
   },
   "outputs": [
    {
     "data": {
      "text/plain": [
       "(3263,)"
      ]
     },
     "execution_count": 5,
     "metadata": {},
     "output_type": "execute_result"
    }
   ],
   "source": [
    "test_data['id'].shape"
   ]
  },
  {
   "cell_type": "code",
   "execution_count": 6,
   "id": "77cf1937",
   "metadata": {
    "execution": {
     "iopub.execute_input": "2023-05-23T05:17:02.567302Z",
     "iopub.status.busy": "2023-05-23T05:17:02.565849Z",
     "iopub.status.idle": "2023-05-23T05:17:02.595514Z",
     "shell.execute_reply": "2023-05-23T05:17:02.594052Z"
    },
    "papermill": {
     "duration": 0.050009,
     "end_time": "2023-05-23T05:17:02.598696",
     "exception": false,
     "start_time": "2023-05-23T05:17:02.548687",
     "status": "completed"
    },
    "tags": []
   },
   "outputs": [
    {
     "data": {
      "text/html": [
       "<div>\n",
       "<style scoped>\n",
       "    .dataframe tbody tr th:only-of-type {\n",
       "        vertical-align: middle;\n",
       "    }\n",
       "\n",
       "    .dataframe tbody tr th {\n",
       "        vertical-align: top;\n",
       "    }\n",
       "\n",
       "    .dataframe thead th {\n",
       "        text-align: right;\n",
       "    }\n",
       "</style>\n",
       "<table border=\"1\" class=\"dataframe\">\n",
       "  <thead>\n",
       "    <tr style=\"text-align: right;\">\n",
       "      <th></th>\n",
       "      <th>id</th>\n",
       "      <th>keyword</th>\n",
       "      <th>location</th>\n",
       "      <th>text</th>\n",
       "      <th>target</th>\n",
       "    </tr>\n",
       "  </thead>\n",
       "  <tbody>\n",
       "    <tr>\n",
       "      <th>0</th>\n",
       "      <td>1</td>\n",
       "      <td>NaN</td>\n",
       "      <td>NaN</td>\n",
       "      <td>Our Deeds are the Reason of this #earthquake M...</td>\n",
       "      <td>1</td>\n",
       "    </tr>\n",
       "    <tr>\n",
       "      <th>1</th>\n",
       "      <td>4</td>\n",
       "      <td>NaN</td>\n",
       "      <td>NaN</td>\n",
       "      <td>Forest fire near La Ronge Sask. Canada</td>\n",
       "      <td>1</td>\n",
       "    </tr>\n",
       "    <tr>\n",
       "      <th>2</th>\n",
       "      <td>5</td>\n",
       "      <td>NaN</td>\n",
       "      <td>NaN</td>\n",
       "      <td>All residents asked to 'shelter in place' are ...</td>\n",
       "      <td>1</td>\n",
       "    </tr>\n",
       "    <tr>\n",
       "      <th>3</th>\n",
       "      <td>6</td>\n",
       "      <td>NaN</td>\n",
       "      <td>NaN</td>\n",
       "      <td>13,000 people receive #wildfires evacuation or...</td>\n",
       "      <td>1</td>\n",
       "    </tr>\n",
       "    <tr>\n",
       "      <th>4</th>\n",
       "      <td>7</td>\n",
       "      <td>NaN</td>\n",
       "      <td>NaN</td>\n",
       "      <td>Just got sent this photo from Ruby #Alaska as ...</td>\n",
       "      <td>1</td>\n",
       "    </tr>\n",
       "  </tbody>\n",
       "</table>\n",
       "</div>"
      ],
      "text/plain": [
       "   id keyword location                                               text  \\\n",
       "0   1     NaN      NaN  Our Deeds are the Reason of this #earthquake M...   \n",
       "1   4     NaN      NaN             Forest fire near La Ronge Sask. Canada   \n",
       "2   5     NaN      NaN  All residents asked to 'shelter in place' are ...   \n",
       "3   6     NaN      NaN  13,000 people receive #wildfires evacuation or...   \n",
       "4   7     NaN      NaN  Just got sent this photo from Ruby #Alaska as ...   \n",
       "\n",
       "   target  \n",
       "0       1  \n",
       "1       1  \n",
       "2       1  \n",
       "3       1  \n",
       "4       1  "
      ]
     },
     "execution_count": 6,
     "metadata": {},
     "output_type": "execute_result"
    }
   ],
   "source": [
    "df.head(5)"
   ]
  },
  {
   "cell_type": "code",
   "execution_count": 7,
   "id": "dbf8711d",
   "metadata": {
    "execution": {
     "iopub.execute_input": "2023-05-23T05:17:02.631850Z",
     "iopub.status.busy": "2023-05-23T05:17:02.630618Z",
     "iopub.status.idle": "2023-05-23T05:17:02.670190Z",
     "shell.execute_reply": "2023-05-23T05:17:02.668288Z"
    },
    "papermill": {
     "duration": 0.059026,
     "end_time": "2023-05-23T05:17:02.673207",
     "exception": false,
     "start_time": "2023-05-23T05:17:02.614181",
     "status": "completed"
    },
    "tags": []
   },
   "outputs": [
    {
     "name": "stdout",
     "output_type": "stream",
     "text": [
      "<class 'pandas.core.frame.DataFrame'>\n",
      "RangeIndex: 7613 entries, 0 to 7612\n",
      "Data columns (total 5 columns):\n",
      " #   Column    Non-Null Count  Dtype \n",
      "---  ------    --------------  ----- \n",
      " 0   id        7613 non-null   int64 \n",
      " 1   keyword   7552 non-null   object\n",
      " 2   location  5080 non-null   object\n",
      " 3   text      7613 non-null   object\n",
      " 4   target    7613 non-null   int64 \n",
      "dtypes: int64(2), object(3)\n",
      "memory usage: 297.5+ KB\n"
     ]
    }
   ],
   "source": [
    "df.info()"
   ]
  },
  {
   "cell_type": "code",
   "execution_count": 8,
   "id": "cf5a00ee",
   "metadata": {
    "execution": {
     "iopub.execute_input": "2023-05-23T05:17:02.709612Z",
     "iopub.status.busy": "2023-05-23T05:17:02.707837Z",
     "iopub.status.idle": "2023-05-23T05:17:02.719688Z",
     "shell.execute_reply": "2023-05-23T05:17:02.718460Z"
    },
    "papermill": {
     "duration": 0.034461,
     "end_time": "2023-05-23T05:17:02.722809",
     "exception": false,
     "start_time": "2023-05-23T05:17:02.688348",
     "status": "completed"
    },
    "tags": []
   },
   "outputs": [
    {
     "data": {
      "text/plain": [
       "0    4342\n",
       "1    3271\n",
       "Name: target, dtype: int64"
      ]
     },
     "execution_count": 8,
     "metadata": {},
     "output_type": "execute_result"
    }
   ],
   "source": [
    "df[\"target\"].value_counts()"
   ]
  },
  {
   "cell_type": "code",
   "execution_count": 9,
   "id": "77fa5a7c",
   "metadata": {
    "execution": {
     "iopub.execute_input": "2023-05-23T05:17:02.755820Z",
     "iopub.status.busy": "2023-05-23T05:17:02.754870Z",
     "iopub.status.idle": "2023-05-23T05:17:03.004664Z",
     "shell.execute_reply": "2023-05-23T05:17:03.002839Z"
    },
    "papermill": {
     "duration": 0.269888,
     "end_time": "2023-05-23T05:17:03.008432",
     "exception": false,
     "start_time": "2023-05-23T05:17:02.738544",
     "status": "completed"
    },
    "tags": []
   },
   "outputs": [
    {
     "data": {
      "text/plain": [
       "Text(0.5, 1.0, 'Target Distribution')"
      ]
     },
     "execution_count": 9,
     "metadata": {},
     "output_type": "execute_result"
    },
    {
     "data": {
      "image/png": "[encoded data removed]",
      "text/plain": [
       "<Figure size 640x480 with 1 Axes>"
      ]
     },
     "metadata": {},
     "output_type": "display_data"
    }
   ],
   "source": [
    "sns.countplot(x='target',data=df)\n",
    "plt.title('Target Distribution')"
   ]
  },
  {
   "cell_type": "code",
   "execution_count": 10,
   "id": "6bd33534",
   "metadata": {
    "execution": {
     "iopub.execute_input": "2023-05-23T05:17:03.040763Z",
     "iopub.status.busy": "2023-05-23T05:17:03.040342Z",
     "iopub.status.idle": "2023-05-23T05:17:03.055171Z",
     "shell.execute_reply": "2023-05-23T05:17:03.053687Z"
    },
    "papermill": {
     "duration": 0.03414,
     "end_time": "2023-05-23T05:17:03.058087",
     "exception": false,
     "start_time": "2023-05-23T05:17:03.023947",
     "status": "completed"
    },
    "tags": []
   },
   "outputs": [
    {
     "data": {
      "text/html": [
       "<div>\n",
       "<style scoped>\n",
       "    .dataframe tbody tr th:only-of-type {\n",
       "        vertical-align: middle;\n",
       "    }\n",
       "\n",
       "    .dataframe tbody tr th {\n",
       "        vertical-align: top;\n",
       "    }\n",
       "\n",
       "    .dataframe thead th {\n",
       "        text-align: right;\n",
       "    }\n",
       "</style>\n",
       "<table border=\"1\" class=\"dataframe\">\n",
       "  <thead>\n",
       "    <tr style=\"text-align: right;\">\n",
       "      <th></th>\n",
       "      <th>id</th>\n",
       "      <th>text</th>\n",
       "      <th>target</th>\n",
       "    </tr>\n",
       "  </thead>\n",
       "  <tbody>\n",
       "    <tr>\n",
       "      <th>0</th>\n",
       "      <td>1</td>\n",
       "      <td>Our Deeds are the Reason of this #earthquake M...</td>\n",
       "      <td>1</td>\n",
       "    </tr>\n",
       "    <tr>\n",
       "      <th>1</th>\n",
       "      <td>4</td>\n",
       "      <td>Forest fire near La Ronge Sask. Canada</td>\n",
       "      <td>1</td>\n",
       "    </tr>\n",
       "    <tr>\n",
       "      <th>2</th>\n",
       "      <td>5</td>\n",
       "      <td>All residents asked to 'shelter in place' are ...</td>\n",
       "      <td>1</td>\n",
       "    </tr>\n",
       "    <tr>\n",
       "      <th>3</th>\n",
       "      <td>6</td>\n",
       "      <td>13,000 people receive #wildfires evacuation or...</td>\n",
       "      <td>1</td>\n",
       "    </tr>\n",
       "    <tr>\n",
       "      <th>4</th>\n",
       "      <td>7</td>\n",
       "      <td>Just got sent this photo from Ruby #Alaska as ...</td>\n",
       "      <td>1</td>\n",
       "    </tr>\n",
       "  </tbody>\n",
       "</table>\n",
       "</div>"
      ],
      "text/plain": [
       "   id                                               text  target\n",
       "0   1  Our Deeds are the Reason of this #earthquake M...       1\n",
       "1   4             Forest fire near La Ronge Sask. Canada       1\n",
       "2   5  All residents asked to 'shelter in place' are ...       1\n",
       "3   6  13,000 people receive #wildfires evacuation or...       1\n",
       "4   7  Just got sent this photo from Ruby #Alaska as ...       1"
      ]
     },
     "execution_count": 10,
     "metadata": {},
     "output_type": "execute_result"
    }
   ],
   "source": [
    "df=df.drop([\"keyword\",\"location\"],axis=1)\n",
    "df.head(5)"
   ]
  },
  {
   "cell_type": "code",
   "execution_count": 11,
   "id": "912473e9",
   "metadata": {
    "execution": {
     "iopub.execute_input": "2023-05-23T05:17:03.091119Z",
     "iopub.status.busy": "2023-05-23T05:17:03.090153Z",
     "iopub.status.idle": "2023-05-23T05:17:18.582938Z",
     "shell.execute_reply": "2023-05-23T05:17:18.581220Z"
    },
    "papermill": {
     "duration": 15.512651,
     "end_time": "2023-05-23T05:17:18.586077",
     "exception": false,
     "start_time": "2023-05-23T05:17:03.073426",
     "status": "completed"
    },
    "tags": []
   },
   "outputs": [],
   "source": [
    "\n",
    "import spacy"
   ]
  },
  {
   "cell_type": "code",
   "execution_count": 12,
   "id": "7c060d0c",
   "metadata": {
    "execution": {
     "iopub.execute_input": "2023-05-23T05:17:18.621626Z",
     "iopub.status.busy": "2023-05-23T05:17:18.620569Z",
     "iopub.status.idle": "2023-05-23T05:17:18.636587Z",
     "shell.execute_reply": "2023-05-23T05:17:18.635197Z"
    },
    "papermill": {
     "duration": 0.037293,
     "end_time": "2023-05-23T05:17:18.639515",
     "exception": false,
     "start_time": "2023-05-23T05:17:18.602222",
     "status": "completed"
    },
    "tags": []
   },
   "outputs": [
    {
     "data": {
      "text/html": [
       "<div>\n",
       "<style scoped>\n",
       "    .dataframe tbody tr th:only-of-type {\n",
       "        vertical-align: middle;\n",
       "    }\n",
       "\n",
       "    .dataframe tbody tr th {\n",
       "        vertical-align: top;\n",
       "    }\n",
       "\n",
       "    .dataframe thead th {\n",
       "        text-align: right;\n",
       "    }\n",
       "</style>\n",
       "<table border=\"1\" class=\"dataframe\">\n",
       "  <thead>\n",
       "    <tr style=\"text-align: right;\">\n",
       "      <th></th>\n",
       "      <th>id</th>\n",
       "      <th>text</th>\n",
       "      <th>target</th>\n",
       "    </tr>\n",
       "  </thead>\n",
       "  <tbody>\n",
       "    <tr>\n",
       "      <th>0</th>\n",
       "      <td>1</td>\n",
       "      <td>Our Deeds are the Reason of this #earthquake M...</td>\n",
       "      <td>1</td>\n",
       "    </tr>\n",
       "    <tr>\n",
       "      <th>1</th>\n",
       "      <td>4</td>\n",
       "      <td>Forest fire near La Ronge Sask. Canada</td>\n",
       "      <td>1</td>\n",
       "    </tr>\n",
       "    <tr>\n",
       "      <th>2</th>\n",
       "      <td>5</td>\n",
       "      <td>All residents asked to 'shelter in place' are ...</td>\n",
       "      <td>1</td>\n",
       "    </tr>\n",
       "    <tr>\n",
       "      <th>3</th>\n",
       "      <td>6</td>\n",
       "      <td>13,000 people receive #wildfires evacuation or...</td>\n",
       "      <td>1</td>\n",
       "    </tr>\n",
       "    <tr>\n",
       "      <th>4</th>\n",
       "      <td>7</td>\n",
       "      <td>Just got sent this photo from Ruby #Alaska as ...</td>\n",
       "      <td>1</td>\n",
       "    </tr>\n",
       "  </tbody>\n",
       "</table>\n",
       "</div>"
      ],
      "text/plain": [
       "   id                                               text  target\n",
       "0   1  Our Deeds are the Reason of this #earthquake M...       1\n",
       "1   4             Forest fire near La Ronge Sask. Canada       1\n",
       "2   5  All residents asked to 'shelter in place' are ...       1\n",
       "3   6  13,000 people receive #wildfires evacuation or...       1\n",
       "4   7  Just got sent this photo from Ruby #Alaska as ...       1"
      ]
     },
     "execution_count": 12,
     "metadata": {},
     "output_type": "execute_result"
    }
   ],
   "source": [
    "df.head(5)"
   ]
  },
  {
   "cell_type": "code",
   "execution_count": 13,
   "id": "74a6018f",
   "metadata": {
    "execution": {
     "iopub.execute_input": "2023-05-23T05:17:18.674732Z",
     "iopub.status.busy": "2023-05-23T05:17:18.673460Z",
     "iopub.status.idle": "2023-05-23T05:17:18.682815Z",
     "shell.execute_reply": "2023-05-23T05:17:18.681364Z"
    },
    "papermill": {
     "duration": 0.030662,
     "end_time": "2023-05-23T05:17:18.686651",
     "exception": false,
     "start_time": "2023-05-23T05:17:18.655989",
     "status": "completed"
    },
    "tags": []
   },
   "outputs": [
    {
     "data": {
      "text/plain": [
       "(7613, 3)"
      ]
     },
     "execution_count": 13,
     "metadata": {},
     "output_type": "execute_result"
    }
   ],
   "source": [
    "df.shape"
   ]
  },
  {
   "cell_type": "code",
   "execution_count": 14,
   "id": "2586cd54",
   "metadata": {
    "execution": {
     "iopub.execute_input": "2023-05-23T05:17:18.722420Z",
     "iopub.status.busy": "2023-05-23T05:17:18.721563Z",
     "iopub.status.idle": "2023-05-23T05:17:20.448437Z",
     "shell.execute_reply": "2023-05-23T05:17:20.447241Z"
    },
    "papermill": {
     "duration": 1.749117,
     "end_time": "2023-05-23T05:17:20.451644",
     "exception": false,
     "start_time": "2023-05-23T05:17:18.702527",
     "status": "completed"
    },
    "tags": []
   },
   "outputs": [],
   "source": [
    "nlp=spacy.load('en_core_web_sm')"
   ]
  },
  {
   "cell_type": "code",
   "execution_count": 15,
   "id": "0254c206",
   "metadata": {
    "execution": {
     "iopub.execute_input": "2023-05-23T05:17:20.485656Z",
     "iopub.status.busy": "2023-05-23T05:17:20.484843Z",
     "iopub.status.idle": "2023-05-23T05:17:20.491298Z",
     "shell.execute_reply": "2023-05-23T05:17:20.490449Z"
    },
    "papermill": {
     "duration": 0.025977,
     "end_time": "2023-05-23T05:17:20.493968",
     "exception": false,
     "start_time": "2023-05-23T05:17:20.467991",
     "status": "completed"
    },
    "tags": []
   },
   "outputs": [],
   "source": [
    "def preprocess(text):\n",
    "    doc=nlp(text)\n",
    "    filtered_token=[]\n",
    "    for token in doc:\n",
    "        if token.is_stop or token.is_punct:\n",
    "            continue\n",
    "        filtered_token.append(token.lemma_)\n",
    "    return ' '.join(filtered_token)\n",
    "       \n",
    "    "
   ]
  },
  {
   "cell_type": "code",
   "execution_count": 16,
   "id": "5896d129",
   "metadata": {
    "execution": {
     "iopub.execute_input": "2023-05-23T05:17:20.529238Z",
     "iopub.status.busy": "2023-05-23T05:17:20.528587Z",
     "iopub.status.idle": "2023-05-23T05:18:45.747558Z",
     "shell.execute_reply": "2023-05-23T05:18:45.746290Z"
    },
    "papermill": {
     "duration": 85.24039,
     "end_time": "2023-05-23T05:18:45.750594",
     "exception": false,
     "start_time": "2023-05-23T05:17:20.510204",
     "status": "completed"
    },
    "tags": []
   },
   "outputs": [],
   "source": [
    "df['Preprocessed_data']=df['text'].apply(preprocess)"
   ]
  },
  {
   "cell_type": "code",
   "execution_count": 17,
   "id": "7a68020d",
   "metadata": {
    "execution": {
     "iopub.execute_input": "2023-05-23T05:18:45.785632Z",
     "iopub.status.busy": "2023-05-23T05:18:45.784555Z",
     "iopub.status.idle": "2023-05-23T05:18:45.798770Z",
     "shell.execute_reply": "2023-05-23T05:18:45.797582Z"
    },
    "papermill": {
     "duration": 0.035582,
     "end_time": "2023-05-23T05:18:45.802084",
     "exception": false,
     "start_time": "2023-05-23T05:18:45.766502",
     "status": "completed"
    },
    "tags": []
   },
   "outputs": [
    {
     "data": {
      "text/html": [
       "<div>\n",
       "<style scoped>\n",
       "    .dataframe tbody tr th:only-of-type {\n",
       "        vertical-align: middle;\n",
       "    }\n",
       "\n",
       "    .dataframe tbody tr th {\n",
       "        vertical-align: top;\n",
       "    }\n",
       "\n",
       "    .dataframe thead th {\n",
       "        text-align: right;\n",
       "    }\n",
       "</style>\n",
       "<table border=\"1\" class=\"dataframe\">\n",
       "  <thead>\n",
       "    <tr style=\"text-align: right;\">\n",
       "      <th></th>\n",
       "      <th>id</th>\n",
       "      <th>text</th>\n",
       "      <th>target</th>\n",
       "      <th>Preprocessed_data</th>\n",
       "    </tr>\n",
       "  </thead>\n",
       "  <tbody>\n",
       "    <tr>\n",
       "      <th>0</th>\n",
       "      <td>1</td>\n",
       "      <td>Our Deeds are the Reason of this #earthquake M...</td>\n",
       "      <td>1</td>\n",
       "      <td>deed Reason earthquake ALLAH forgive</td>\n",
       "    </tr>\n",
       "    <tr>\n",
       "      <th>1</th>\n",
       "      <td>4</td>\n",
       "      <td>Forest fire near La Ronge Sask. Canada</td>\n",
       "      <td>1</td>\n",
       "      <td>forest fire near La Ronge Sask Canada</td>\n",
       "    </tr>\n",
       "    <tr>\n",
       "      <th>2</th>\n",
       "      <td>5</td>\n",
       "      <td>All residents asked to 'shelter in place' are ...</td>\n",
       "      <td>1</td>\n",
       "      <td>resident ask shelter place notify officer evac...</td>\n",
       "    </tr>\n",
       "    <tr>\n",
       "      <th>3</th>\n",
       "      <td>6</td>\n",
       "      <td>13,000 people receive #wildfires evacuation or...</td>\n",
       "      <td>1</td>\n",
       "      <td>13,000 people receive wildfire evacuation orde...</td>\n",
       "    </tr>\n",
       "    <tr>\n",
       "      <th>4</th>\n",
       "      <td>7</td>\n",
       "      <td>Just got sent this photo from Ruby #Alaska as ...</td>\n",
       "      <td>1</td>\n",
       "      <td>got send photo Ruby Alaska smoke wildfire pour...</td>\n",
       "    </tr>\n",
       "  </tbody>\n",
       "</table>\n",
       "</div>"
      ],
      "text/plain": [
       "   id                                               text  target  \\\n",
       "0   1  Our Deeds are the Reason of this #earthquake M...       1   \n",
       "1   4             Forest fire near La Ronge Sask. Canada       1   \n",
       "2   5  All residents asked to 'shelter in place' are ...       1   \n",
       "3   6  13,000 people receive #wildfires evacuation or...       1   \n",
       "4   7  Just got sent this photo from Ruby #Alaska as ...       1   \n",
       "\n",
       "                                   Preprocessed_data  \n",
       "0               deed Reason earthquake ALLAH forgive  \n",
       "1              forest fire near La Ronge Sask Canada  \n",
       "2  resident ask shelter place notify officer evac...  \n",
       "3  13,000 people receive wildfire evacuation orde...  \n",
       "4  got send photo Ruby Alaska smoke wildfire pour...  "
      ]
     },
     "execution_count": 17,
     "metadata": {},
     "output_type": "execute_result"
    }
   ],
   "source": [
    "df.head(5)\n"
   ]
  },
  {
   "cell_type": "code",
   "execution_count": 18,
   "id": "40d4bdba",
   "metadata": {
    "execution": {
     "iopub.execute_input": "2023-05-23T05:18:45.837019Z",
     "iopub.status.busy": "2023-05-23T05:18:45.836187Z",
     "iopub.status.idle": "2023-05-23T05:18:45.841681Z",
     "shell.execute_reply": "2023-05-23T05:18:45.840221Z"
    },
    "papermill": {
     "duration": 0.027024,
     "end_time": "2023-05-23T05:18:45.844764",
     "exception": false,
     "start_time": "2023-05-23T05:18:45.817740",
     "status": "completed"
    },
    "tags": []
   },
   "outputs": [],
   "source": [
    "#df['vector']=df['Preprocessed_data'].apply(lambda text: nlp(text).vector)"
   ]
  },
  {
   "cell_type": "code",
   "execution_count": 19,
   "id": "82267b1e",
   "metadata": {
    "execution": {
     "iopub.execute_input": "2023-05-23T05:18:45.879737Z",
     "iopub.status.busy": "2023-05-23T05:18:45.878811Z",
     "iopub.status.idle": "2023-05-23T05:18:45.884597Z",
     "shell.execute_reply": "2023-05-23T05:18:45.883591Z"
    },
    "papermill": {
     "duration": 0.026512,
     "end_time": "2023-05-23T05:18:45.887210",
     "exception": false,
     "start_time": "2023-05-23T05:18:45.860698",
     "status": "completed"
    },
    "tags": []
   },
   "outputs": [],
   "source": [
    "#df.head(4)"
   ]
  },
  {
   "cell_type": "code",
   "execution_count": 20,
   "id": "1b403d92",
   "metadata": {
    "execution": {
     "iopub.execute_input": "2023-05-23T05:18:45.922218Z",
     "iopub.status.busy": "2023-05-23T05:18:45.921061Z",
     "iopub.status.idle": "2023-05-23T05:18:46.273183Z",
     "shell.execute_reply": "2023-05-23T05:18:46.271905Z"
    },
    "papermill": {
     "duration": 0.372928,
     "end_time": "2023-05-23T05:18:46.276292",
     "exception": false,
     "start_time": "2023-05-23T05:18:45.903364",
     "status": "completed"
    },
    "tags": []
   },
   "outputs": [],
   "source": [
    "from sklearn.model_selection import train_test_split\n",
    "x_train,x_test,y_train,y_test=train_test_split(df.Preprocessed_data, df.target, test_size=0.2 , random_state=42)\n"
   ]
  },
  {
   "cell_type": "code",
   "execution_count": null,
   "id": "1c845c7c",
   "metadata": {
    "execution": {
     "iopub.execute_input": "2023-05-22T13:14:29.552166Z",
     "iopub.status.busy": "2023-05-22T13:14:29.551808Z",
     "iopub.status.idle": "2023-05-22T13:14:29.583155Z",
     "shell.execute_reply": "2023-05-22T13:14:29.581871Z",
     "shell.execute_reply.started": "2023-05-22T13:14:29.552135Z"
    },
    "papermill": {
     "duration": 0.015493,
     "end_time": "2023-05-23T05:18:46.307950",
     "exception": false,
     "start_time": "2023-05-23T05:18:46.292457",
     "status": "completed"
    },
    "tags": []
   },
   "outputs": [],
   "source": []
  },
  {
   "cell_type": "code",
   "execution_count": 21,
   "id": "6b713fe7",
   "metadata": {
    "execution": {
     "iopub.execute_input": "2023-05-23T05:18:46.343907Z",
     "iopub.status.busy": "2023-05-23T05:18:46.342703Z",
     "iopub.status.idle": "2023-05-23T05:18:46.348534Z",
     "shell.execute_reply": "2023-05-23T05:18:46.347584Z"
    },
    "papermill": {
     "duration": 0.026415,
     "end_time": "2023-05-23T05:18:46.351140",
     "exception": false,
     "start_time": "2023-05-23T05:18:46.324725",
     "status": "completed"
    },
    "tags": []
   },
   "outputs": [],
   "source": [
    "#x_train.shape"
   ]
  },
  {
   "cell_type": "code",
   "execution_count": 22,
   "id": "befefe0c",
   "metadata": {
    "execution": {
     "iopub.execute_input": "2023-05-23T05:18:46.386237Z",
     "iopub.status.busy": "2023-05-23T05:18:46.385590Z",
     "iopub.status.idle": "2023-05-23T05:18:46.390350Z",
     "shell.execute_reply": "2023-05-23T05:18:46.389287Z"
    },
    "papermill": {
     "duration": 0.025244,
     "end_time": "2023-05-23T05:18:46.392863",
     "exception": false,
     "start_time": "2023-05-23T05:18:46.367619",
     "status": "completed"
    },
    "tags": []
   },
   "outputs": [],
   "source": [
    "#x_train_2d.shape"
   ]
  },
  {
   "cell_type": "code",
   "execution_count": 23,
   "id": "bdbd8890",
   "metadata": {
    "execution": {
     "iopub.execute_input": "2023-05-23T05:18:46.427098Z",
     "iopub.status.busy": "2023-05-23T05:18:46.426395Z",
     "iopub.status.idle": "2023-05-23T05:18:46.431100Z",
     "shell.execute_reply": "2023-05-23T05:18:46.430170Z"
    },
    "papermill": {
     "duration": 0.025177,
     "end_time": "2023-05-23T05:18:46.433570",
     "exception": false,
     "start_time": "2023-05-23T05:18:46.408393",
     "status": "completed"
    },
    "tags": []
   },
   "outputs": [],
   "source": [
    "#from sklearn.tree import DecisionTreeClassifier\n",
    "#clf=DecisionTreeClassifier()\n",
    "#clf.fit(x_train_2d, y_train)"
   ]
  },
  {
   "cell_type": "code",
   "execution_count": 24,
   "id": "6d350225",
   "metadata": {
    "execution": {
     "iopub.execute_input": "2023-05-23T05:18:46.468454Z",
     "iopub.status.busy": "2023-05-23T05:18:46.467786Z",
     "iopub.status.idle": "2023-05-23T05:18:46.472444Z",
     "shell.execute_reply": "2023-05-23T05:18:46.471521Z"
    },
    "papermill": {
     "duration": 0.025149,
     "end_time": "2023-05-23T05:18:46.474953",
     "exception": false,
     "start_time": "2023-05-23T05:18:46.449804",
     "status": "completed"
    },
    "tags": []
   },
   "outputs": [],
   "source": [
    "#prediction =clf.predict(x_test_2d)\n",
    "\n"
   ]
  },
  {
   "cell_type": "code",
   "execution_count": 25,
   "id": "3c83c994",
   "metadata": {
    "execution": {
     "iopub.execute_input": "2023-05-23T05:18:46.509562Z",
     "iopub.status.busy": "2023-05-23T05:18:46.508884Z",
     "iopub.status.idle": "2023-05-23T05:18:46.541060Z",
     "shell.execute_reply": "2023-05-23T05:18:46.539688Z"
    },
    "papermill": {
     "duration": 0.052927,
     "end_time": "2023-05-23T05:18:46.543715",
     "exception": false,
     "start_time": "2023-05-23T05:18:46.490788",
     "status": "completed"
    },
    "tags": []
   },
   "outputs": [],
   "source": [
    "from sklearn.metrics import classification_report\n",
    "from sklearn.pipeline import Pipeline\n",
    "from sklearn.feature_extraction.text import CountVectorizer\n",
    "#print(classification_report(y_test,prediction))"
   ]
  },
  {
   "cell_type": "code",
   "execution_count": 26,
   "id": "01cd7e70",
   "metadata": {
    "execution": {
     "iopub.execute_input": "2023-05-23T05:18:46.581239Z",
     "iopub.status.busy": "2023-05-23T05:18:46.580528Z",
     "iopub.status.idle": "2023-05-23T05:18:48.159604Z",
     "shell.execute_reply": "2023-05-23T05:18:48.158344Z"
    },
    "papermill": {
     "duration": 1.601007,
     "end_time": "2023-05-23T05:18:48.162680",
     "exception": false,
     "start_time": "2023-05-23T05:18:46.561673",
     "status": "completed"
    },
    "tags": []
   },
   "outputs": [
    {
     "name": "stdout",
     "output_type": "stream",
     "text": [
      "              precision    recall  f1-score   support\n",
      "\n",
      "           0       0.68      0.94      0.79       874\n",
      "           1       0.83      0.41      0.55       649\n",
      "\n",
      "    accuracy                           0.71      1523\n",
      "   macro avg       0.76      0.67      0.67      1523\n",
      "weighted avg       0.75      0.71      0.69      1523\n",
      "\n"
     ]
    }
   ],
   "source": [
    "from sklearn.neighbors import KNeighborsClassifier\n",
    "clf=Pipeline([\n",
    "    ('vectorize_n_grams',CountVectorizer(ngram_range=(1,3))),\n",
    "    ('KNN',KNeighborsClassifier(n_neighbors=10, metric='cosine'))\n",
    "])\n",
    "clf.fit(x_train, y_train)\n",
    "prediction =clf.predict(x_test)\n",
    "print(classification_report(y_test,prediction))"
   ]
  },
  {
   "cell_type": "code",
   "execution_count": 27,
   "id": "c316c5fd",
   "metadata": {
    "execution": {
     "iopub.execute_input": "2023-05-23T05:18:48.199238Z",
     "iopub.status.busy": "2023-05-23T05:18:48.197670Z",
     "iopub.status.idle": "2023-05-23T05:18:49.485569Z",
     "shell.execute_reply": "2023-05-23T05:18:49.483908Z"
    },
    "papermill": {
     "duration": 1.31095,
     "end_time": "2023-05-23T05:18:49.489591",
     "exception": false,
     "start_time": "2023-05-23T05:18:48.178641",
     "status": "completed"
    },
    "tags": []
   },
   "outputs": [
    {
     "name": "stdout",
     "output_type": "stream",
     "text": [
      "              precision    recall  f1-score   support\n",
      "\n",
      "           0       0.61      1.00      0.76       874\n",
      "           1       1.00      0.13      0.23       649\n",
      "\n",
      "    accuracy                           0.63      1523\n",
      "   macro avg       0.80      0.57      0.49      1523\n",
      "weighted avg       0.77      0.63      0.53      1523\n",
      "\n"
     ]
    }
   ],
   "source": [
    "from sklearn.neighbors import KNeighborsClassifier\n",
    "clf=Pipeline([\n",
    "    ('vectorize_n_grams',CountVectorizer(ngram_range=(1,3))),\n",
    "    ('KNN',KNeighborsClassifier(n_neighbors=10, metric='euclidean'))\n",
    "])\n",
    "clf.fit(x_train, y_train)\n",
    "prediction =clf.predict(x_test)\n",
    "print(classification_report(y_test,prediction))\n"
   ]
  },
  {
   "cell_type": "code",
   "execution_count": 28,
   "id": "b9266efb",
   "metadata": {
    "execution": {
     "iopub.execute_input": "2023-05-23T05:18:49.525103Z",
     "iopub.status.busy": "2023-05-23T05:18:49.524708Z",
     "iopub.status.idle": "2023-05-23T05:19:35.360152Z",
     "shell.execute_reply": "2023-05-23T05:19:35.358296Z"
    },
    "papermill": {
     "duration": 45.870453,
     "end_time": "2023-05-23T05:19:35.376957",
     "exception": false,
     "start_time": "2023-05-23T05:18:49.506504",
     "status": "completed"
    },
    "tags": []
   },
   "outputs": [
    {
     "name": "stdout",
     "output_type": "stream",
     "text": [
      "              precision    recall  f1-score   support\n",
      "\n",
      "           0       0.73      0.96      0.83       874\n",
      "           1       0.91      0.53      0.67       649\n",
      "\n",
      "    accuracy                           0.78      1523\n",
      "   macro avg       0.82      0.74      0.75      1523\n",
      "weighted avg       0.81      0.78      0.76      1523\n",
      "\n"
     ]
    }
   ],
   "source": [
    "from sklearn.ensemble import RandomForestClassifier\n",
    "clf=Pipeline([\n",
    "    ('vectorize_n_grams',CountVectorizer(ngram_range=(1,3))),\n",
    "    ('random_forest',(RandomForestClassifier()))\n",
    "])\n",
    "clf.fit(x_train, y_train)\n",
    "prediction =clf.predict(x_test)\n",
    "print(classification_report(y_test,prediction))"
   ]
  },
  {
   "cell_type": "code",
   "execution_count": 29,
   "id": "68989f54",
   "metadata": {
    "execution": {
     "iopub.execute_input": "2023-05-23T05:19:35.412630Z",
     "iopub.status.busy": "2023-05-23T05:19:35.412170Z",
     "iopub.status.idle": "2023-05-23T05:19:35.925786Z",
     "shell.execute_reply": "2023-05-23T05:19:35.923912Z"
    },
    "papermill": {
     "duration": 0.534633,
     "end_time": "2023-05-23T05:19:35.928522",
     "exception": false,
     "start_time": "2023-05-23T05:19:35.393889",
     "status": "completed"
    },
    "tags": []
   },
   "outputs": [
    {
     "name": "stdout",
     "output_type": "stream",
     "text": [
      "              precision    recall  f1-score   support\n",
      "\n",
      "           0       0.81      0.83      0.82       874\n",
      "           1       0.76      0.74      0.75       649\n",
      "\n",
      "    accuracy                           0.79      1523\n",
      "   macro avg       0.79      0.79      0.79      1523\n",
      "weighted avg       0.79      0.79      0.79      1523\n",
      "\n"
     ]
    }
   ],
   "source": [
    "from sklearn.naive_bayes import MultinomialNB\n",
    "clf1 = Pipeline([\n",
    "    ('vectorizer_trigrams', CountVectorizer(ngram_range = (1, 2))),         \n",
    "     ('Multi NB', MultinomialNB(alpha = 0.75))         \n",
    "])\n",
    "clf1.fit(x_train, y_train)\n",
    "prediction =clf1.predict(x_test)\n",
    "print(classification_report(y_test,prediction))"
   ]
  },
  {
   "cell_type": "code",
   "execution_count": 30,
   "id": "bdada1bb",
   "metadata": {
    "execution": {
     "iopub.execute_input": "2023-05-23T05:19:35.962110Z",
     "iopub.status.busy": "2023-05-23T05:19:35.961697Z",
     "iopub.status.idle": "2023-05-23T05:19:35.967187Z",
     "shell.execute_reply": "2023-05-23T05:19:35.965852Z"
    },
    "papermill": {
     "duration": 0.02544,
     "end_time": "2023-05-23T05:19:35.969951",
     "exception": false,
     "start_time": "2023-05-23T05:19:35.944511",
     "status": "completed"
    },
    "tags": []
   },
   "outputs": [],
   "source": [
    "#from sklearn.naive_bayes import MultinomialNB\n",
    "#from sklearn.preprocessing import MinMaxScaler\n",
    "#scaler=MinMaxScaler()\n",
    "#scaler_train_embed=scaler.fit_transform(x_train_2d)\n",
    "#scaler_test_embed=scaler.fit_transform(x_test_2d)\n",
    "#clf=MultinomialNB()\n",
    "#clf.fit(scaler_train_embed,y_train)\n",
    "#pediction =clf.predict(scaler_test_embed)\n",
    "#print(classification_report(y_test,prediction))"
   ]
  },
  {
   "cell_type": "code",
   "execution_count": 31,
   "id": "497066d5",
   "metadata": {
    "execution": {
     "iopub.execute_input": "2023-05-23T05:19:36.005307Z",
     "iopub.status.busy": "2023-05-23T05:19:36.004863Z",
     "iopub.status.idle": "2023-05-23T05:19:53.979602Z",
     "shell.execute_reply": "2023-05-23T05:19:53.977217Z"
    },
    "papermill": {
     "duration": 17.996922,
     "end_time": "2023-05-23T05:19:53.983359",
     "exception": false,
     "start_time": "2023-05-23T05:19:35.986437",
     "status": "completed"
    },
    "tags": []
   },
   "outputs": [
    {
     "name": "stdout",
     "output_type": "stream",
     "text": [
      "              precision    recall  f1-score   support\n",
      "\n",
      "           0       0.73      0.93      0.82       874\n",
      "           1       0.86      0.53      0.66       649\n",
      "\n",
      "    accuracy                           0.76      1523\n",
      "   macro avg       0.79      0.73      0.74      1523\n",
      "weighted avg       0.78      0.76      0.75      1523\n",
      "\n"
     ]
    }
   ],
   "source": [
    "from sklearn.ensemble import GradientBoostingClassifier\n",
    "clf=GradientBoostingClassifier()\n",
    "clf=Pipeline([\n",
    "    ('vectorize_n_grams',CountVectorizer(ngram_range=(1,3))),\n",
    "    ('gradiantboost',(GradientBoostingClassifier()))\n",
    "])\n",
    "clf.fit(x_train, y_train)\n",
    "prediction =clf.predict(x_test)\n",
    "print(classification_report(y_test,prediction))"
   ]
  },
  {
   "cell_type": "code",
   "execution_count": 32,
   "id": "b494a877",
   "metadata": {
    "execution": {
     "iopub.execute_input": "2023-05-23T05:19:54.019076Z",
     "iopub.status.busy": "2023-05-23T05:19:54.018674Z",
     "iopub.status.idle": "2023-05-23T05:19:54.025197Z",
     "shell.execute_reply": "2023-05-23T05:19:54.023812Z"
    },
    "papermill": {
     "duration": 0.027986,
     "end_time": "2023-05-23T05:19:54.027859",
     "exception": false,
     "start_time": "2023-05-23T05:19:53.999873",
     "status": "completed"
    },
    "tags": []
   },
   "outputs": [],
   "source": [
    "#from sklearn.linear_model import LogisticRegression\n",
    "#clf1=LogisticRegression(random_state=0)\n",
    "#clf1.fit(x_train_2d, y_train)\n",
    "#prediction =clf1.predict(x_test_2d)\n",
    "#print(classification_report(y_test,prediction))"
   ]
  },
  {
   "cell_type": "code",
   "execution_count": 33,
   "id": "043a5e0b",
   "metadata": {
    "execution": {
     "iopub.execute_input": "2023-05-23T05:19:54.062596Z",
     "iopub.status.busy": "2023-05-23T05:19:54.061536Z",
     "iopub.status.idle": "2023-05-23T05:19:54.073517Z",
     "shell.execute_reply": "2023-05-23T05:19:54.072259Z"
    },
    "papermill": {
     "duration": 0.03217,
     "end_time": "2023-05-23T05:19:54.076334",
     "exception": false,
     "start_time": "2023-05-23T05:19:54.044164",
     "status": "completed"
    },
    "tags": []
   },
   "outputs": [
    {
     "data": {
      "text/plain": [
       "array([[817,  57],\n",
       "       [305, 344]])"
      ]
     },
     "execution_count": 33,
     "metadata": {},
     "output_type": "execute_result"
    }
   ],
   "source": [
    "from sklearn.metrics import confusion_matrix\n",
    "cm=confusion_matrix(y_test,prediction)\n",
    "cm"
   ]
  },
  {
   "cell_type": "code",
   "execution_count": 34,
   "id": "21376f98",
   "metadata": {
    "execution": {
     "iopub.execute_input": "2023-05-23T05:19:54.111711Z",
     "iopub.status.busy": "2023-05-23T05:19:54.110614Z",
     "iopub.status.idle": "2023-05-23T05:19:54.444664Z",
     "shell.execute_reply": "2023-05-23T05:19:54.443178Z"
    },
    "papermill": {
     "duration": 0.354444,
     "end_time": "2023-05-23T05:19:54.447573",
     "exception": false,
     "start_time": "2023-05-23T05:19:54.093129",
     "status": "completed"
    },
    "tags": []
   },
   "outputs": [
    {
     "data": {
      "text/plain": [
       "Text(58.222222222222214, 0.5, 'Truth')"
      ]
     },
     "execution_count": 34,
     "metadata": {},
     "output_type": "execute_result"
    },
    {
     "data": {
      "image/png": "[encoded data removed]",
      "text/plain": [
       "<Figure size 700x600 with 2 Axes>"
      ]
     },
     "metadata": {},
     "output_type": "display_data"
    }
   ],
   "source": [
    "plt.figure(figsize=(7,6))\n",
    "sns.heatmap(cm , annot=True, fmt='d')\n",
    "plt.xlabel('Prediction')\n",
    "plt.ylabel('Truth')"
   ]
  },
  {
   "cell_type": "code",
   "execution_count": 35,
   "id": "694497ce",
   "metadata": {
    "execution": {
     "iopub.execute_input": "2023-05-23T05:19:54.483009Z",
     "iopub.status.busy": "2023-05-23T05:19:54.482131Z",
     "iopub.status.idle": "2023-05-23T05:19:54.490348Z",
     "shell.execute_reply": "2023-05-23T05:19:54.489096Z"
    },
    "papermill": {
     "duration": 0.028958,
     "end_time": "2023-05-23T05:19:54.492986",
     "exception": false,
     "start_time": "2023-05-23T05:19:54.464028",
     "status": "completed"
    },
    "tags": []
   },
   "outputs": [
    {
     "data": {
      "text/plain": [
       "(3263,)"
      ]
     },
     "execution_count": 35,
     "metadata": {},
     "output_type": "execute_result"
    }
   ],
   "source": [
    "test_data['id'].shape"
   ]
  },
  {
   "cell_type": "code",
   "execution_count": 36,
   "id": "3bcf1f01",
   "metadata": {
    "execution": {
     "iopub.execute_input": "2023-05-23T05:19:54.532712Z",
     "iopub.status.busy": "2023-05-23T05:19:54.532290Z",
     "iopub.status.idle": "2023-05-23T05:19:54.540531Z",
     "shell.execute_reply": "2023-05-23T05:19:54.539103Z"
    },
    "papermill": {
     "duration": 0.031328,
     "end_time": "2023-05-23T05:19:54.543209",
     "exception": false,
     "start_time": "2023-05-23T05:19:54.511881",
     "status": "completed"
    },
    "tags": []
   },
   "outputs": [
    {
     "data": {
      "text/plain": [
       "(1523,)"
      ]
     },
     "execution_count": 36,
     "metadata": {},
     "output_type": "execute_result"
    }
   ],
   "source": [
    "x_test.shape"
   ]
  },
  {
   "cell_type": "code",
   "execution_count": 37,
   "id": "8bee7cd4",
   "metadata": {
    "execution": {
     "iopub.execute_input": "2023-05-23T05:19:54.583501Z",
     "iopub.status.busy": "2023-05-23T05:19:54.582963Z",
     "iopub.status.idle": "2023-05-23T05:19:54.588956Z",
     "shell.execute_reply": "2023-05-23T05:19:54.587320Z"
    },
    "papermill": {
     "duration": 0.029417,
     "end_time": "2023-05-23T05:19:54.591546",
     "exception": false,
     "start_time": "2023-05-23T05:19:54.562129",
     "status": "completed"
    },
    "tags": []
   },
   "outputs": [],
   "source": [
    "\n",
    "X_test=df1['text']\n"
   ]
  },
  {
   "cell_type": "code",
   "execution_count": 38,
   "id": "63b27760",
   "metadata": {
    "execution": {
     "iopub.execute_input": "2023-05-23T05:19:54.632835Z",
     "iopub.status.busy": "2023-05-23T05:19:54.632354Z",
     "iopub.status.idle": "2023-05-23T05:19:54.637655Z",
     "shell.execute_reply": "2023-05-23T05:19:54.635793Z"
    },
    "papermill": {
     "duration": 0.029788,
     "end_time": "2023-05-23T05:19:54.640800",
     "exception": false,
     "start_time": "2023-05-23T05:19:54.611012",
     "status": "completed"
    },
    "tags": []
   },
   "outputs": [],
   "source": [
    "#X_test1=np.stack(X_test)\n"
   ]
  },
  {
   "cell_type": "code",
   "execution_count": 39,
   "id": "fcc089cf",
   "metadata": {
    "execution": {
     "iopub.execute_input": "2023-05-23T05:19:54.680411Z",
     "iopub.status.busy": "2023-05-23T05:19:54.679598Z",
     "iopub.status.idle": "2023-05-23T05:19:54.830763Z",
     "shell.execute_reply": "2023-05-23T05:19:54.829567Z"
    },
    "papermill": {
     "duration": 0.173954,
     "end_time": "2023-05-23T05:19:54.833594",
     "exception": false,
     "start_time": "2023-05-23T05:19:54.659640",
     "status": "completed"
    },
    "tags": []
   },
   "outputs": [],
   "source": [
    "y_prediction=clf1.predict(X_test)"
   ]
  },
  {
   "cell_type": "code",
   "execution_count": 40,
   "id": "f3ff4804",
   "metadata": {
    "execution": {
     "iopub.execute_input": "2023-05-23T05:19:54.869938Z",
     "iopub.status.busy": "2023-05-23T05:19:54.869426Z",
     "iopub.status.idle": "2023-05-23T05:19:54.891963Z",
     "shell.execute_reply": "2023-05-23T05:19:54.890689Z"
    },
    "papermill": {
     "duration": 0.04387,
     "end_time": "2023-05-23T05:19:54.895074",
     "exception": false,
     "start_time": "2023-05-23T05:19:54.851204",
     "status": "completed"
    },
    "tags": []
   },
   "outputs": [],
   "source": [
    "Submission = pd.DataFrame({'id' : df1['id'],'target':y_prediction})\n",
    "Submission.to_csv('Submission.csv',index=False)\n"
   ]
  },
  {
   "cell_type": "code",
   "execution_count": null,
   "id": "be7379b1",
   "metadata": {
    "papermill": {
     "duration": 0.01834,
     "end_time": "2023-05-23T05:19:54.930708",
     "exception": false,
     "start_time": "2023-05-23T05:19:54.912368",
     "status": "completed"
    },
    "tags": []
   },
   "outputs": [],
   "source": []
  },
  {
   "cell_type": "code",
   "execution_count": null,
   "id": "a048f561",
   "metadata": {
    "papermill": {
     "duration": 0.018082,
     "end_time": "2023-05-23T05:19:54.968113",
     "exception": false,
     "start_time": "2023-05-23T05:19:54.950031",
     "status": "completed"
    },
    "tags": []
   },
   "outputs": [],
   "source": []
  }
 ],
 "metadata": {
  "kernelspec": {
   "display_name": "Python 3",
   "language": "python",
   "name": "python3"
  },
  "language_info": {
   "codemirror_mode": {
    "name": "ipython",
    "version": 3
   },
   "file_extension": ".py",
   "mimetype": "text/x-python",
   "name": "python",
   "nbconvert_exporter": "python",
   "pygments_lexer": "ipython3",
   "version": "3.10.10"
  },
  "papermill": {
   "default_parameters": {},
   "duration": 192.104715,
   "end_time": "2023-05-23T05:19:57.633514",
   "environment_variables": {},
   "exception": null,
   "input_path": "__notebook__.ipynb",
   "output_path": "__notebook__.ipynb",
   "parameters": {},
   "start_time": "2023-05-23T05:16:45.528799",
   "version": "2.4.0"
  }
 },
 "nbformat": 4,
 "nbformat_minor": 5
}
