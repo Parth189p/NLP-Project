{
 "cells": [
  {
   "cell_type": "code",
   "execution_count": 1,
   "id": "692828e6",
   "metadata": {
    "_cell_guid": "b1076dfc-b9ad-4769-8c92-a6c4dae69d19",
    "_uuid": "8f2839f25d086af736a60e9eeb907d3b93b6e0e5",
    "execution": {
     "iopub.execute_input": "2023-05-22T12:40:21.753895Z",
     "iopub.status.busy": "2023-05-22T12:40:21.753390Z",
     "iopub.status.idle": "2023-05-22T12:40:21.771602Z",
     "shell.execute_reply": "2023-05-22T12:40:21.770400Z"
    },
    "papermill": {
     "duration": 0.034151,
     "end_time": "2023-05-22T12:40:21.774116",
     "exception": false,
     "start_time": "2023-05-22T12:40:21.739965",
     "status": "completed"
    },
    "tags": []
   },
   "outputs": [
    {
     "name": "stdout",
     "output_type": "stream",
     "text": [
      "/kaggle/input/nlp-getting-started/sample_submission.csv\n",
      "/kaggle/input/nlp-getting-started/train.csv\n",
      "/kaggle/input/nlp-getting-started/test.csv\n"
     ]
    }
   ],
   "source": [
    "# This Python 3 environment comes with many helpful analytics libraries installed\n",
    "# It is defined by the kaggle/python Docker image: https://github.com/kaggle/docker-python\n",
    "# For example, here's several helpful packages to load\n",
    "\n",
    "import numpy as np # linear algebra\n",
    "import pandas as pd # data processing, CSV file I/O (e.g. pd.read_csv)\n",
    "\n",
    "# Input data files are available in the read-only \"../input/\" directory\n",
    "# For example, running this (by clicking run or pressing Shift+Enter) will list all files under the input directory\n",
    "\n",
    "import os\n",
    "for dirname, _, filenames in os.walk('/kaggle/input'):\n",
    "    for filename in filenames:\n",
    "        print(os.path.join(dirname, filename))\n",
    "\n",
    "# You can write up to 20GB to the current directory (/kaggle/working/) that gets preserved as output when you create a version using \"Save & Run All\" \n",
    "# You can also write temporary files to /kaggle/temp/, but they won't be saved outside of the current session"
   ]
  },
  {
   "cell_type": "code",
   "execution_count": 2,
   "id": "66dfefba",
   "metadata": {
    "execution": {
     "iopub.execute_input": "2023-05-22T12:40:21.798199Z",
     "iopub.status.busy": "2023-05-22T12:40:21.797778Z",
     "iopub.status.idle": "2023-05-22T12:40:23.228080Z",
     "shell.execute_reply": "2023-05-22T12:40:23.226627Z"
    },
    "papermill": {
     "duration": 1.445603,
     "end_time": "2023-05-22T12:40:23.231025",
     "exception": false,
     "start_time": "2023-05-22T12:40:21.785422",
     "status": "completed"
    },
    "tags": []
   },
   "outputs": [
    {
     "name": "stderr",
     "output_type": "stream",
     "text": [
      "/opt/conda/lib/python3.10/site-packages/scipy/__init__.py:146: UserWarning: A NumPy version >=1.16.5 and <1.23.0 is required for this version of SciPy (detected version 1.23.5\n",
      "  warnings.warn(f\"A NumPy version >={np_minversion} and <{np_maxversion}\"\n"
     ]
    }
   ],
   "source": [
    "import matplotlib.pyplot as plt\n",
    "import seaborn as sns"
   ]
  },
  {
   "cell_type": "code",
   "execution_count": 3,
   "id": "3794148e",
   "metadata": {
    "execution": {
     "iopub.execute_input": "2023-05-22T12:40:23.255714Z",
     "iopub.status.busy": "2023-05-22T12:40:23.255256Z",
     "iopub.status.idle": "2023-05-22T12:40:23.338955Z",
     "shell.execute_reply": "2023-05-22T12:40:23.337990Z"
    },
    "papermill": {
     "duration": 0.09912,
     "end_time": "2023-05-22T12:40:23.341668",
     "exception": false,
     "start_time": "2023-05-22T12:40:23.242548",
     "status": "completed"
    },
    "tags": []
   },
   "outputs": [],
   "source": [
    "train_data=pd.read_csv(\"/kaggle/input/nlp-getting-started/train.csv\")\n",
    "test_data=pd.read_csv(\"/kaggle/input/nlp-getting-started/test.csv\")"
   ]
  },
  {
   "cell_type": "code",
   "execution_count": 4,
   "id": "de39aabd",
   "metadata": {
    "execution": {
     "iopub.execute_input": "2023-05-22T12:40:23.365781Z",
     "iopub.status.busy": "2023-05-22T12:40:23.365342Z",
     "iopub.status.idle": "2023-05-22T12:40:23.369500Z",
     "shell.execute_reply": "2023-05-22T12:40:23.368715Z"
    },
    "papermill": {
     "duration": 0.018602,
     "end_time": "2023-05-22T12:40:23.371597",
     "exception": false,
     "start_time": "2023-05-22T12:40:23.352995",
     "status": "completed"
    },
    "tags": []
   },
   "outputs": [],
   "source": [
    "df=train_data\n",
    "df1=test_data"
   ]
  },
  {
   "cell_type": "code",
   "execution_count": 5,
   "id": "baac7b74",
   "metadata": {
    "execution": {
     "iopub.execute_input": "2023-05-22T12:40:23.395838Z",
     "iopub.status.busy": "2023-05-22T12:40:23.394897Z",
     "iopub.status.idle": "2023-05-22T12:40:23.407950Z",
     "shell.execute_reply": "2023-05-22T12:40:23.406868Z"
    },
    "papermill": {
     "duration": 0.027867,
     "end_time": "2023-05-22T12:40:23.410524",
     "exception": false,
     "start_time": "2023-05-22T12:40:23.382657",
     "status": "completed"
    },
    "tags": []
   },
   "outputs": [
    {
     "data": {
      "text/plain": [
       "(3263,)"
      ]
     },
     "execution_count": 5,
     "metadata": {},
     "output_type": "execute_result"
    }
   ],
   "source": [
    "test_data['id'].shape"
   ]
  },
  {
   "cell_type": "code",
   "execution_count": 6,
   "id": "c1d7d100",
   "metadata": {
    "execution": {
     "iopub.execute_input": "2023-05-22T12:40:23.434694Z",
     "iopub.status.busy": "2023-05-22T12:40:23.434300Z",
     "iopub.status.idle": "2023-05-22T12:40:23.458492Z",
     "shell.execute_reply": "2023-05-22T12:40:23.457359Z"
    },
    "papermill": {
     "duration": 0.039183,
     "end_time": "2023-05-22T12:40:23.460913",
     "exception": false,
     "start_time": "2023-05-22T12:40:23.421730",
     "status": "completed"
    },
    "tags": []
   },
   "outputs": [
    {
     "data": {
      "text/html": [
       "<div>\n",
       "<style scoped>\n",
       "    .dataframe tbody tr th:only-of-type {\n",
       "        vertical-align: middle;\n",
       "    }\n",
       "\n",
       "    .dataframe tbody tr th {\n",
       "        vertical-align: top;\n",
       "    }\n",
       "\n",
       "    .dataframe thead th {\n",
       "        text-align: right;\n",
       "    }\n",
       "</style>\n",
       "<table border=\"1\" class=\"dataframe\">\n",
       "  <thead>\n",
       "    <tr style=\"text-align: right;\">\n",
       "      <th></th>\n",
       "      <th>id</th>\n",
       "      <th>keyword</th>\n",
       "      <th>location</th>\n",
       "      <th>text</th>\n",
       "      <th>target</th>\n",
       "    </tr>\n",
       "  </thead>\n",
       "  <tbody>\n",
       "    <tr>\n",
       "      <th>0</th>\n",
       "      <td>1</td>\n",
       "      <td>NaN</td>\n",
       "      <td>NaN</td>\n",
       "      <td>Our Deeds are the Reason of this #earthquake M...</td>\n",
       "      <td>1</td>\n",
       "    </tr>\n",
       "    <tr>\n",
       "      <th>1</th>\n",
       "      <td>4</td>\n",
       "      <td>NaN</td>\n",
       "      <td>NaN</td>\n",
       "      <td>Forest fire near La Ronge Sask. Canada</td>\n",
       "      <td>1</td>\n",
       "    </tr>\n",
       "    <tr>\n",
       "      <th>2</th>\n",
       "      <td>5</td>\n",
       "      <td>NaN</td>\n",
       "      <td>NaN</td>\n",
       "      <td>All residents asked to 'shelter in place' are ...</td>\n",
       "      <td>1</td>\n",
       "    </tr>\n",
       "    <tr>\n",
       "      <th>3</th>\n",
       "      <td>6</td>\n",
       "      <td>NaN</td>\n",
       "      <td>NaN</td>\n",
       "      <td>13,000 people receive #wildfires evacuation or...</td>\n",
       "      <td>1</td>\n",
       "    </tr>\n",
       "    <tr>\n",
       "      <th>4</th>\n",
       "      <td>7</td>\n",
       "      <td>NaN</td>\n",
       "      <td>NaN</td>\n",
       "      <td>Just got sent this photo from Ruby #Alaska as ...</td>\n",
       "      <td>1</td>\n",
       "    </tr>\n",
       "  </tbody>\n",
       "</table>\n",
       "</div>"
      ],
      "text/plain": [
       "   id keyword location                                               text  \\\n",
       "0   1     NaN      NaN  Our Deeds are the Reason of this #earthquake M...   \n",
       "1   4     NaN      NaN             Forest fire near La Ronge Sask. Canada   \n",
       "2   5     NaN      NaN  All residents asked to 'shelter in place' are ...   \n",
       "3   6     NaN      NaN  13,000 people receive #wildfires evacuation or...   \n",
       "4   7     NaN      NaN  Just got sent this photo from Ruby #Alaska as ...   \n",
       "\n",
       "   target  \n",
       "0       1  \n",
       "1       1  \n",
       "2       1  \n",
       "3       1  \n",
       "4       1  "
      ]
     },
     "execution_count": 6,
     "metadata": {},
     "output_type": "execute_result"
    }
   ],
   "source": [
    "df.head(5)"
   ]
  },
  {
   "cell_type": "code",
   "execution_count": 7,
   "id": "af2cfe63",
   "metadata": {
    "execution": {
     "iopub.execute_input": "2023-05-22T12:40:23.485875Z",
     "iopub.status.busy": "2023-05-22T12:40:23.485486Z",
     "iopub.status.idle": "2023-05-22T12:40:23.521039Z",
     "shell.execute_reply": "2023-05-22T12:40:23.519645Z"
    },
    "papermill": {
     "duration": 0.051186,
     "end_time": "2023-05-22T12:40:23.523560",
     "exception": false,
     "start_time": "2023-05-22T12:40:23.472374",
     "status": "completed"
    },
    "tags": []
   },
   "outputs": [
    {
     "name": "stdout",
     "output_type": "stream",
     "text": [
      "<class 'pandas.core.frame.DataFrame'>\n",
      "RangeIndex: 7613 entries, 0 to 7612\n",
      "Data columns (total 5 columns):\n",
      " #   Column    Non-Null Count  Dtype \n",
      "---  ------    --------------  ----- \n",
      " 0   id        7613 non-null   int64 \n",
      " 1   keyword   7552 non-null   object\n",
      " 2   location  5080 non-null   object\n",
      " 3   text      7613 non-null   object\n",
      " 4   target    7613 non-null   int64 \n",
      "dtypes: int64(2), object(3)\n",
      "memory usage: 297.5+ KB\n"
     ]
    }
   ],
   "source": [
    "df.info()"
   ]
  },
  {
   "cell_type": "code",
   "execution_count": 8,
   "id": "b10df5e1",
   "metadata": {
    "execution": {
     "iopub.execute_input": "2023-05-22T12:40:23.549101Z",
     "iopub.status.busy": "2023-05-22T12:40:23.547856Z",
     "iopub.status.idle": "2023-05-22T12:40:23.557087Z",
     "shell.execute_reply": "2023-05-22T12:40:23.555830Z"
    },
    "papermill": {
     "duration": 0.024462,
     "end_time": "2023-05-22T12:40:23.559538",
     "exception": false,
     "start_time": "2023-05-22T12:40:23.535076",
     "status": "completed"
    },
    "tags": []
   },
   "outputs": [
    {
     "data": {
      "text/plain": [
       "0    4342\n",
       "1    3271\n",
       "Name: target, dtype: int64"
      ]
     },
     "execution_count": 8,
     "metadata": {},
     "output_type": "execute_result"
    }
   ],
   "source": [
    "df[\"target\"].value_counts()"
   ]
  },
  {
   "cell_type": "code",
   "execution_count": 9,
   "id": "14f77fcf",
   "metadata": {
    "execution": {
     "iopub.execute_input": "2023-05-22T12:40:23.584786Z",
     "iopub.status.busy": "2023-05-22T12:40:23.584390Z",
     "iopub.status.idle": "2023-05-22T12:40:23.853770Z",
     "shell.execute_reply": "2023-05-22T12:40:23.852547Z"
    },
    "papermill": {
     "duration": 0.285549,
     "end_time": "2023-05-22T12:40:23.856788",
     "exception": false,
     "start_time": "2023-05-22T12:40:23.571239",
     "status": "completed"
    },
    "tags": []
   },
   "outputs": [
    {
     "data": {
      "text/plain": [
       "Text(0.5, 1.0, 'Target Distribution')"
      ]
     },
     "execution_count": 9,
     "metadata": {},
     "output_type": "execute_result"
    },
    {
     "data": {
      "image/png": "[encoded data removed]",
      "text/plain": [
       "<Figure size 640x480 with 1 Axes>"
      ]
     },
     "metadata": {},
     "output_type": "display_data"
    }
   ],
   "source": [
    "sns.countplot(x='target',data=df)\n",
    "plt.title('Target Distribution')"
   ]
  },
  {
   "cell_type": "code",
   "execution_count": 10,
   "id": "5b5cb182",
   "metadata": {
    "execution": {
     "iopub.execute_input": "2023-05-22T12:40:23.883156Z",
     "iopub.status.busy": "2023-05-22T12:40:23.882776Z",
     "iopub.status.idle": "2023-05-22T12:40:23.896543Z",
     "shell.execute_reply": "2023-05-22T12:40:23.895323Z"
    },
    "papermill": {
     "duration": 0.029883,
     "end_time": "2023-05-22T12:40:23.899242",
     "exception": false,
     "start_time": "2023-05-22T12:40:23.869359",
     "status": "completed"
    },
    "tags": []
   },
   "outputs": [
    {
     "data": {
      "text/html": [
       "<div>\n",
       "<style scoped>\n",
       "    .dataframe tbody tr th:only-of-type {\n",
       "        vertical-align: middle;\n",
       "    }\n",
       "\n",
       "    .dataframe tbody tr th {\n",
       "        vertical-align: top;\n",
       "    }\n",
       "\n",
       "    .dataframe thead th {\n",
       "        text-align: right;\n",
       "    }\n",
       "</style>\n",
       "<table border=\"1\" class=\"dataframe\">\n",
       "  <thead>\n",
       "    <tr style=\"text-align: right;\">\n",
       "      <th></th>\n",
       "      <th>id</th>\n",
       "      <th>text</th>\n",
       "      <th>target</th>\n",
       "    </tr>\n",
       "  </thead>\n",
       "  <tbody>\n",
       "    <tr>\n",
       "      <th>0</th>\n",
       "      <td>1</td>\n",
       "      <td>Our Deeds are the Reason of this #earthquake M...</td>\n",
       "      <td>1</td>\n",
       "    </tr>\n",
       "    <tr>\n",
       "      <th>1</th>\n",
       "      <td>4</td>\n",
       "      <td>Forest fire near La Ronge Sask. Canada</td>\n",
       "      <td>1</td>\n",
       "    </tr>\n",
       "    <tr>\n",
       "      <th>2</th>\n",
       "      <td>5</td>\n",
       "      <td>All residents asked to 'shelter in place' are ...</td>\n",
       "      <td>1</td>\n",
       "    </tr>\n",
       "    <tr>\n",
       "      <th>3</th>\n",
       "      <td>6</td>\n",
       "      <td>13,000 people receive #wildfires evacuation or...</td>\n",
       "      <td>1</td>\n",
       "    </tr>\n",
       "    <tr>\n",
       "      <th>4</th>\n",
       "      <td>7</td>\n",
       "      <td>Just got sent this photo from Ruby #Alaska as ...</td>\n",
       "      <td>1</td>\n",
       "    </tr>\n",
       "  </tbody>\n",
       "</table>\n",
       "</div>"
      ],
      "text/plain": [
       "   id                                               text  target\n",
       "0   1  Our Deeds are the Reason of this #earthquake M...       1\n",
       "1   4             Forest fire near La Ronge Sask. Canada       1\n",
       "2   5  All residents asked to 'shelter in place' are ...       1\n",
       "3   6  13,000 people receive #wildfires evacuation or...       1\n",
       "4   7  Just got sent this photo from Ruby #Alaska as ...       1"
      ]
     },
     "execution_count": 10,
     "metadata": {},
     "output_type": "execute_result"
    }
   ],
   "source": [
    "df=df.drop([\"keyword\",\"location\"],axis=1)\n",
    "df.head(5)"
   ]
  },
  {
   "cell_type": "code",
   "execution_count": 11,
   "id": "500f774a",
   "metadata": {
    "execution": {
     "iopub.execute_input": "2023-05-22T12:40:23.926573Z",
     "iopub.status.busy": "2023-05-22T12:40:23.925880Z",
     "iopub.status.idle": "2023-05-22T12:41:31.440738Z",
     "shell.execute_reply": "2023-05-22T12:41:31.439419Z"
    },
    "papermill": {
     "duration": 67.531676,
     "end_time": "2023-05-22T12:41:31.443729",
     "exception": false,
     "start_time": "2023-05-22T12:40:23.912053",
     "status": "completed"
    },
    "tags": []
   },
   "outputs": [
    {
     "name": "stdout",
     "output_type": "stream",
     "text": [
      "/opt/conda/lib/python3.10/site-packages/scipy/__init__.py:146: UserWarning: A NumPy version >=1.16.5 and <1.23.0 is required for this version of SciPy (detected version 1.23.5\r\n",
      "  warnings.warn(f\"A NumPy version >={np_minversion} and <{np_maxversion}\"\r\n",
      "Collecting en-core-web-lg==3.5.0\r\n",
      "  Downloading https://github.com/explosion/spacy-models/releases/download/en_core_web_lg-3.5.0/en_core_web_lg-3.5.0-py3-none-any.whl (587.7 MB)\r\n",
      "\u001b[2K     \u001b[90m━━━━━━━━━━━━━━━━━━━━━━━━━━━━━━━━━━━━━━━\u001b[0m \u001b[32m587.7/587.7 MB\u001b[0m \u001b[31m1.0 MB/s\u001b[0m eta \u001b[36m0:00:00\u001b[0m\r\n",
      "\u001b[?25hRequirement already satisfied: spacy<3.6.0,>=3.5.0 in /opt/conda/lib/python3.10/site-packages (from en-core-web-lg==3.5.0) (3.5.2)\r\n",
      "Requirement already satisfied: requests<3.0.0,>=2.13.0 in /opt/conda/lib/python3.10/site-packages (from spacy<3.6.0,>=3.5.0->en-core-web-lg==3.5.0) (2.28.2)\r\n",
      "Requirement already satisfied: setuptools in /opt/conda/lib/python3.10/site-packages (from spacy<3.6.0,>=3.5.0->en-core-web-lg==3.5.0) (59.8.0)\r\n",
      "Requirement already satisfied: jinja2 in /opt/conda/lib/python3.10/site-packages (from spacy<3.6.0,>=3.5.0->en-core-web-lg==3.5.0) (3.1.2)\r\n",
      "Requirement already satisfied: typer<0.8.0,>=0.3.0 in /opt/conda/lib/python3.10/site-packages (from spacy<3.6.0,>=3.5.0->en-core-web-lg==3.5.0) (0.7.0)\r\n",
      "Requirement already satisfied: smart-open<7.0.0,>=5.2.1 in /opt/conda/lib/python3.10/site-packages (from spacy<3.6.0,>=3.5.0->en-core-web-lg==3.5.0) (6.3.0)\r\n",
      "Requirement already satisfied: pathy>=0.10.0 in /opt/conda/lib/python3.10/site-packages (from spacy<3.6.0,>=3.5.0->en-core-web-lg==3.5.0) (0.10.1)\r\n",
      "Requirement already satisfied: spacy-legacy<3.1.0,>=3.0.11 in /opt/conda/lib/python3.10/site-packages (from spacy<3.6.0,>=3.5.0->en-core-web-lg==3.5.0) (3.0.12)\r\n",
      "Requirement already satisfied: cymem<2.1.0,>=2.0.2 in /opt/conda/lib/python3.10/site-packages (from spacy<3.6.0,>=3.5.0->en-core-web-lg==3.5.0) (2.0.7)\r\n",
      "Requirement already satisfied: preshed<3.1.0,>=3.0.2 in /opt/conda/lib/python3.10/site-packages (from spacy<3.6.0,>=3.5.0->en-core-web-lg==3.5.0) (3.0.8)\r\n",
      "Requirement already satisfied: thinc<8.2.0,>=8.1.8 in /opt/conda/lib/python3.10/site-packages (from spacy<3.6.0,>=3.5.0->en-core-web-lg==3.5.0) (8.1.9)\r\n",
      "Requirement already satisfied: langcodes<4.0.0,>=3.2.0 in /opt/conda/lib/python3.10/site-packages (from spacy<3.6.0,>=3.5.0->en-core-web-lg==3.5.0) (3.3.0)\r\n",
      "Requirement already satisfied: srsly<3.0.0,>=2.4.3 in /opt/conda/lib/python3.10/site-packages (from spacy<3.6.0,>=3.5.0->en-core-web-lg==3.5.0) (2.4.6)\r\n",
      "Requirement already satisfied: packaging>=20.0 in /opt/conda/lib/python3.10/site-packages (from spacy<3.6.0,>=3.5.0->en-core-web-lg==3.5.0) (21.3)\r\n",
      "Requirement already satisfied: wasabi<1.2.0,>=0.9.1 in /opt/conda/lib/python3.10/site-packages (from spacy<3.6.0,>=3.5.0->en-core-web-lg==3.5.0) (1.1.1)\r\n",
      "Requirement already satisfied: murmurhash<1.1.0,>=0.28.0 in /opt/conda/lib/python3.10/site-packages (from spacy<3.6.0,>=3.5.0->en-core-web-lg==3.5.0) (1.0.9)\r\n",
      "Requirement already satisfied: pydantic!=1.8,!=1.8.1,<1.11.0,>=1.7.4 in /opt/conda/lib/python3.10/site-packages (from spacy<3.6.0,>=3.5.0->en-core-web-lg==3.5.0) (1.10.7)\r\n",
      "Requirement already satisfied: spacy-loggers<2.0.0,>=1.0.0 in /opt/conda/lib/python3.10/site-packages (from spacy<3.6.0,>=3.5.0->en-core-web-lg==3.5.0) (1.0.4)\r\n",
      "Requirement already satisfied: catalogue<2.1.0,>=2.0.6 in /opt/conda/lib/python3.10/site-packages (from spacy<3.6.0,>=3.5.0->en-core-web-lg==3.5.0) (2.0.8)\r\n",
      "Requirement already satisfied: numpy>=1.15.0 in /opt/conda/lib/python3.10/site-packages (from spacy<3.6.0,>=3.5.0->en-core-web-lg==3.5.0) (1.23.5)\r\n",
      "Requirement already satisfied: tqdm<5.0.0,>=4.38.0 in /opt/conda/lib/python3.10/site-packages (from spacy<3.6.0,>=3.5.0->en-core-web-lg==3.5.0) (4.64.1)\r\n",
      "Requirement already satisfied: pyparsing!=3.0.5,>=2.0.2 in /opt/conda/lib/python3.10/site-packages (from packaging>=20.0->spacy<3.6.0,>=3.5.0->en-core-web-lg==3.5.0) (3.0.9)\r\n",
      "Requirement already satisfied: typing-extensions>=4.2.0 in /opt/conda/lib/python3.10/site-packages (from pydantic!=1.8,!=1.8.1,<1.11.0,>=1.7.4->spacy<3.6.0,>=3.5.0->en-core-web-lg==3.5.0) (4.5.0)\r\n",
      "Requirement already satisfied: charset-normalizer<4,>=2 in /opt/conda/lib/python3.10/site-packages (from requests<3.0.0,>=2.13.0->spacy<3.6.0,>=3.5.0->en-core-web-lg==3.5.0) (2.1.1)\r\n",
      "Requirement already satisfied: idna<4,>=2.5 in /opt/conda/lib/python3.10/site-packages (from requests<3.0.0,>=2.13.0->spacy<3.6.0,>=3.5.0->en-core-web-lg==3.5.0) (3.4)\r\n",
      "Requirement already satisfied: certifi>=2017.4.17 in /opt/conda/lib/python3.10/site-packages (from requests<3.0.0,>=2.13.0->spacy<3.6.0,>=3.5.0->en-core-web-lg==3.5.0) (2022.12.7)\r\n",
      "Requirement already satisfied: urllib3<1.27,>=1.21.1 in /opt/conda/lib/python3.10/site-packages (from requests<3.0.0,>=2.13.0->spacy<3.6.0,>=3.5.0->en-core-web-lg==3.5.0) (1.26.15)\r\n",
      "Requirement already satisfied: blis<0.8.0,>=0.7.8 in /opt/conda/lib/python3.10/site-packages (from thinc<8.2.0,>=8.1.8->spacy<3.6.0,>=3.5.0->en-core-web-lg==3.5.0) (0.7.9)\r\n",
      "Requirement already satisfied: confection<1.0.0,>=0.0.1 in /opt/conda/lib/python3.10/site-packages (from thinc<8.2.0,>=8.1.8->spacy<3.6.0,>=3.5.0->en-core-web-lg==3.5.0) (0.0.4)\r\n",
      "Requirement already satisfied: click<9.0.0,>=7.1.1 in /opt/conda/lib/python3.10/site-packages (from typer<0.8.0,>=0.3.0->spacy<3.6.0,>=3.5.0->en-core-web-lg==3.5.0) (8.1.3)\r\n",
      "Requirement already satisfied: MarkupSafe>=2.0 in /opt/conda/lib/python3.10/site-packages (from jinja2->spacy<3.6.0,>=3.5.0->en-core-web-lg==3.5.0) (2.1.2)\r\n",
      "\u001b[33mWARNING: Running pip as the 'root' user can result in broken permissions and conflicting behaviour with the system package manager. It is recommended to use a virtual environment instead: https://pip.pypa.io/warnings/venv\u001b[0m\u001b[33m\r\n",
      "\u001b[0m\u001b[38;5;2m✔ Download and installation successful\u001b[0m\r\n",
      "You can now load the package via spacy.load('en_core_web_lg')\r\n"
     ]
    }
   ],
   "source": [
    "!python -m spacy download en_core_web_lg\n",
    "import spacy"
   ]
  },
  {
   "cell_type": "code",
   "execution_count": 12,
   "id": "a3183d7d",
   "metadata": {
    "execution": {
     "iopub.execute_input": "2023-05-22T12:41:31.564116Z",
     "iopub.status.busy": "2023-05-22T12:41:31.562982Z",
     "iopub.status.idle": "2023-05-22T12:41:31.575422Z",
     "shell.execute_reply": "2023-05-22T12:41:31.574218Z"
    },
    "papermill": {
     "duration": 0.074591,
     "end_time": "2023-05-22T12:41:31.577931",
     "exception": false,
     "start_time": "2023-05-22T12:41:31.503340",
     "status": "completed"
    },
    "tags": []
   },
   "outputs": [
    {
     "data": {
      "text/html": [
       "<div>\n",
       "<style scoped>\n",
       "    .dataframe tbody tr th:only-of-type {\n",
       "        vertical-align: middle;\n",
       "    }\n",
       "\n",
       "    .dataframe tbody tr th {\n",
       "        vertical-align: top;\n",
       "    }\n",
       "\n",
       "    .dataframe thead th {\n",
       "        text-align: right;\n",
       "    }\n",
       "</style>\n",
       "<table border=\"1\" class=\"dataframe\">\n",
       "  <thead>\n",
       "    <tr style=\"text-align: right;\">\n",
       "      <th></th>\n",
       "      <th>id</th>\n",
       "      <th>text</th>\n",
       "      <th>target</th>\n",
       "    </tr>\n",
       "  </thead>\n",
       "  <tbody>\n",
       "    <tr>\n",
       "      <th>0</th>\n",
       "      <td>1</td>\n",
       "      <td>Our Deeds are the Reason of this #earthquake M...</td>\n",
       "      <td>1</td>\n",
       "    </tr>\n",
       "    <tr>\n",
       "      <th>1</th>\n",
       "      <td>4</td>\n",
       "      <td>Forest fire near La Ronge Sask. Canada</td>\n",
       "      <td>1</td>\n",
       "    </tr>\n",
       "    <tr>\n",
       "      <th>2</th>\n",
       "      <td>5</td>\n",
       "      <td>All residents asked to 'shelter in place' are ...</td>\n",
       "      <td>1</td>\n",
       "    </tr>\n",
       "    <tr>\n",
       "      <th>3</th>\n",
       "      <td>6</td>\n",
       "      <td>13,000 people receive #wildfires evacuation or...</td>\n",
       "      <td>1</td>\n",
       "    </tr>\n",
       "    <tr>\n",
       "      <th>4</th>\n",
       "      <td>7</td>\n",
       "      <td>Just got sent this photo from Ruby #Alaska as ...</td>\n",
       "      <td>1</td>\n",
       "    </tr>\n",
       "  </tbody>\n",
       "</table>\n",
       "</div>"
      ],
      "text/plain": [
       "   id                                               text  target\n",
       "0   1  Our Deeds are the Reason of this #earthquake M...       1\n",
       "1   4             Forest fire near La Ronge Sask. Canada       1\n",
       "2   5  All residents asked to 'shelter in place' are ...       1\n",
       "3   6  13,000 people receive #wildfires evacuation or...       1\n",
       "4   7  Just got sent this photo from Ruby #Alaska as ...       1"
      ]
     },
     "execution_count": 12,
     "metadata": {},
     "output_type": "execute_result"
    }
   ],
   "source": [
    "df.head(5)"
   ]
  },
  {
   "cell_type": "code",
   "execution_count": 13,
   "id": "777872a0",
   "metadata": {
    "execution": {
     "iopub.execute_input": "2023-05-22T12:41:31.697282Z",
     "iopub.status.busy": "2023-05-22T12:41:31.696836Z",
     "iopub.status.idle": "2023-05-22T12:41:31.703864Z",
     "shell.execute_reply": "2023-05-22T12:41:31.702771Z"
    },
    "papermill": {
     "duration": 0.069653,
     "end_time": "2023-05-22T12:41:31.706341",
     "exception": false,
     "start_time": "2023-05-22T12:41:31.636688",
     "status": "completed"
    },
    "tags": []
   },
   "outputs": [
    {
     "data": {
      "text/plain": [
       "(7613, 3)"
      ]
     },
     "execution_count": 13,
     "metadata": {},
     "output_type": "execute_result"
    }
   ],
   "source": [
    "df.shape"
   ]
  },
  {
   "cell_type": "code",
   "execution_count": 14,
   "id": "df1cdcda",
   "metadata": {
    "execution": {
     "iopub.execute_input": "2023-05-22T12:41:31.827033Z",
     "iopub.status.busy": "2023-05-22T12:41:31.826640Z",
     "iopub.status.idle": "2023-05-22T12:41:37.700596Z",
     "shell.execute_reply": "2023-05-22T12:41:37.699386Z"
    },
    "papermill": {
     "duration": 5.938578,
     "end_time": "2023-05-22T12:41:37.703389",
     "exception": false,
     "start_time": "2023-05-22T12:41:31.764811",
     "status": "completed"
    },
    "tags": []
   },
   "outputs": [],
   "source": [
    "nlp=spacy.load('en_core_web_lg')"
   ]
  },
  {
   "cell_type": "code",
   "execution_count": 15,
   "id": "9a6934a5",
   "metadata": {
    "execution": {
     "iopub.execute_input": "2023-05-22T12:41:37.833271Z",
     "iopub.status.busy": "2023-05-22T12:41:37.832521Z",
     "iopub.status.idle": "2023-05-22T12:41:37.838660Z",
     "shell.execute_reply": "2023-05-22T12:41:37.837384Z"
    },
    "papermill": {
     "duration": 0.077557,
     "end_time": "2023-05-22T12:41:37.842044",
     "exception": false,
     "start_time": "2023-05-22T12:41:37.764487",
     "status": "completed"
    },
    "tags": []
   },
   "outputs": [],
   "source": [
    "def preprocess(text):\n",
    "    doc=nlp(text)\n",
    "    filtered_token=[]\n",
    "    for token in doc:\n",
    "        if token.is_stop or token.is_punct:\n",
    "            continue\n",
    "        filtered_token.append(token.lemma_)\n",
    "    return ' '.join(filtered_token)\n",
    "       \n",
    "    "
   ]
  },
  {
   "cell_type": "code",
   "execution_count": 16,
   "id": "34a6596f",
   "metadata": {
    "execution": {
     "iopub.execute_input": "2023-05-22T12:41:37.970127Z",
     "iopub.status.busy": "2023-05-22T12:41:37.969168Z",
     "iopub.status.idle": "2023-05-22T12:42:59.187528Z",
     "shell.execute_reply": "2023-05-22T12:42:59.186348Z"
    },
    "papermill": {
     "duration": 81.283431,
     "end_time": "2023-05-22T12:42:59.190636",
     "exception": false,
     "start_time": "2023-05-22T12:41:37.907205",
     "status": "completed"
    },
    "tags": []
   },
   "outputs": [],
   "source": [
    "df['Preprocessed_data']=df['text'].apply(lambda text: preprocess(text))"
   ]
  },
  {
   "cell_type": "code",
   "execution_count": 17,
   "id": "3ed41032",
   "metadata": {
    "execution": {
     "iopub.execute_input": "2023-05-22T12:42:59.311658Z",
     "iopub.status.busy": "2023-05-22T12:42:59.310461Z",
     "iopub.status.idle": "2023-05-22T12:42:59.323304Z",
     "shell.execute_reply": "2023-05-22T12:42:59.322381Z"
    },
    "papermill": {
     "duration": 0.075618,
     "end_time": "2023-05-22T12:42:59.325558",
     "exception": false,
     "start_time": "2023-05-22T12:42:59.249940",
     "status": "completed"
    },
    "tags": []
   },
   "outputs": [
    {
     "data": {
      "text/html": [
       "<div>\n",
       "<style scoped>\n",
       "    .dataframe tbody tr th:only-of-type {\n",
       "        vertical-align: middle;\n",
       "    }\n",
       "\n",
       "    .dataframe tbody tr th {\n",
       "        vertical-align: top;\n",
       "    }\n",
       "\n",
       "    .dataframe thead th {\n",
       "        text-align: right;\n",
       "    }\n",
       "</style>\n",
       "<table border=\"1\" class=\"dataframe\">\n",
       "  <thead>\n",
       "    <tr style=\"text-align: right;\">\n",
       "      <th></th>\n",
       "      <th>id</th>\n",
       "      <th>text</th>\n",
       "      <th>target</th>\n",
       "      <th>Preprocessed_data</th>\n",
       "    </tr>\n",
       "  </thead>\n",
       "  <tbody>\n",
       "    <tr>\n",
       "      <th>0</th>\n",
       "      <td>1</td>\n",
       "      <td>Our Deeds are the Reason of this #earthquake M...</td>\n",
       "      <td>1</td>\n",
       "      <td>deed reason earthquake ALLAH forgive</td>\n",
       "    </tr>\n",
       "    <tr>\n",
       "      <th>1</th>\n",
       "      <td>4</td>\n",
       "      <td>Forest fire near La Ronge Sask. Canada</td>\n",
       "      <td>1</td>\n",
       "      <td>Forest fire near La Ronge Sask Canada</td>\n",
       "    </tr>\n",
       "    <tr>\n",
       "      <th>2</th>\n",
       "      <td>5</td>\n",
       "      <td>All residents asked to 'shelter in place' are ...</td>\n",
       "      <td>1</td>\n",
       "      <td>resident ask shelter place notify officer evac...</td>\n",
       "    </tr>\n",
       "    <tr>\n",
       "      <th>3</th>\n",
       "      <td>6</td>\n",
       "      <td>13,000 people receive #wildfires evacuation or...</td>\n",
       "      <td>1</td>\n",
       "      <td>13,000 people receive wildfire evacuation orde...</td>\n",
       "    </tr>\n",
       "    <tr>\n",
       "      <th>4</th>\n",
       "      <td>7</td>\n",
       "      <td>Just got sent this photo from Ruby #Alaska as ...</td>\n",
       "      <td>1</td>\n",
       "      <td>got send photo Ruby Alaska smoke wildfire pour...</td>\n",
       "    </tr>\n",
       "  </tbody>\n",
       "</table>\n",
       "</div>"
      ],
      "text/plain": [
       "   id                                               text  target  \\\n",
       "0   1  Our Deeds are the Reason of this #earthquake M...       1   \n",
       "1   4             Forest fire near La Ronge Sask. Canada       1   \n",
       "2   5  All residents asked to 'shelter in place' are ...       1   \n",
       "3   6  13,000 people receive #wildfires evacuation or...       1   \n",
       "4   7  Just got sent this photo from Ruby #Alaska as ...       1   \n",
       "\n",
       "                                   Preprocessed_data  \n",
       "0               deed reason earthquake ALLAH forgive  \n",
       "1              Forest fire near La Ronge Sask Canada  \n",
       "2  resident ask shelter place notify officer evac...  \n",
       "3  13,000 people receive wildfire evacuation orde...  \n",
       "4  got send photo Ruby Alaska smoke wildfire pour...  "
      ]
     },
     "execution_count": 17,
     "metadata": {},
     "output_type": "execute_result"
    }
   ],
   "source": [
    "df.head(5)\n"
   ]
  },
  {
   "cell_type": "code",
   "execution_count": 18,
   "id": "384e1d3d",
   "metadata": {
    "execution": {
     "iopub.execute_input": "2023-05-22T12:42:59.445978Z",
     "iopub.status.busy": "2023-05-22T12:42:59.444906Z",
     "iopub.status.idle": "2023-05-22T12:44:05.457797Z",
     "shell.execute_reply": "2023-05-22T12:44:05.456655Z"
    },
    "papermill": {
     "duration": 66.076245,
     "end_time": "2023-05-22T12:44:05.460858",
     "exception": false,
     "start_time": "2023-05-22T12:42:59.384613",
     "status": "completed"
    },
    "tags": []
   },
   "outputs": [],
   "source": [
    "df['vector']=df['Preprocessed_data'].apply(lambda text: nlp(text).vector)"
   ]
  },
  {
   "cell_type": "code",
   "execution_count": 19,
   "id": "76f1b10b",
   "metadata": {
    "execution": {
     "iopub.execute_input": "2023-05-22T12:44:05.583220Z",
     "iopub.status.busy": "2023-05-22T12:44:05.582393Z",
     "iopub.status.idle": "2023-05-22T12:44:05.601651Z",
     "shell.execute_reply": "2023-05-22T12:44:05.600534Z"
    },
    "papermill": {
     "duration": 0.083236,
     "end_time": "2023-05-22T12:44:05.604268",
     "exception": false,
     "start_time": "2023-05-22T12:44:05.521032",
     "status": "completed"
    },
    "tags": []
   },
   "outputs": [
    {
     "data": {
      "text/html": [
       "<div>\n",
       "<style scoped>\n",
       "    .dataframe tbody tr th:only-of-type {\n",
       "        vertical-align: middle;\n",
       "    }\n",
       "\n",
       "    .dataframe tbody tr th {\n",
       "        vertical-align: top;\n",
       "    }\n",
       "\n",
       "    .dataframe thead th {\n",
       "        text-align: right;\n",
       "    }\n",
       "</style>\n",
       "<table border=\"1\" class=\"dataframe\">\n",
       "  <thead>\n",
       "    <tr style=\"text-align: right;\">\n",
       "      <th></th>\n",
       "      <th>id</th>\n",
       "      <th>text</th>\n",
       "      <th>target</th>\n",
       "      <th>Preprocessed_data</th>\n",
       "      <th>vector</th>\n",
       "    </tr>\n",
       "  </thead>\n",
       "  <tbody>\n",
       "    <tr>\n",
       "      <th>0</th>\n",
       "      <td>1</td>\n",
       "      <td>Our Deeds are the Reason of this #earthquake M...</td>\n",
       "      <td>1</td>\n",
       "      <td>deed reason earthquake ALLAH forgive</td>\n",
       "      <td>[-0.28463596, -0.30987197, -1.7421799, -1.7687...</td>\n",
       "    </tr>\n",
       "    <tr>\n",
       "      <th>1</th>\n",
       "      <td>4</td>\n",
       "      <td>Forest fire near La Ronge Sask. Canada</td>\n",
       "      <td>1</td>\n",
       "      <td>Forest fire near La Ronge Sask Canada</td>\n",
       "      <td>[-2.1241229, -1.1775132, 0.33062562, -1.526927...</td>\n",
       "    </tr>\n",
       "    <tr>\n",
       "      <th>2</th>\n",
       "      <td>5</td>\n",
       "      <td>All residents asked to 'shelter in place' are ...</td>\n",
       "      <td>1</td>\n",
       "      <td>resident ask shelter place notify officer evac...</td>\n",
       "      <td>[-0.47314653, 0.48064452, -0.84510803, 0.88004...</td>\n",
       "    </tr>\n",
       "    <tr>\n",
       "      <th>3</th>\n",
       "      <td>6</td>\n",
       "      <td>13,000 people receive #wildfires evacuation or...</td>\n",
       "      <td>1</td>\n",
       "      <td>13,000 people receive wildfire evacuation orde...</td>\n",
       "      <td>[-1.5771782, -0.55624425, -2.7827258, 1.444958...</td>\n",
       "    </tr>\n",
       "  </tbody>\n",
       "</table>\n",
       "</div>"
      ],
      "text/plain": [
       "   id                                               text  target  \\\n",
       "0   1  Our Deeds are the Reason of this #earthquake M...       1   \n",
       "1   4             Forest fire near La Ronge Sask. Canada       1   \n",
       "2   5  All residents asked to 'shelter in place' are ...       1   \n",
       "3   6  13,000 people receive #wildfires evacuation or...       1   \n",
       "\n",
       "                                   Preprocessed_data  \\\n",
       "0               deed reason earthquake ALLAH forgive   \n",
       "1              Forest fire near La Ronge Sask Canada   \n",
       "2  resident ask shelter place notify officer evac...   \n",
       "3  13,000 people receive wildfire evacuation orde...   \n",
       "\n",
       "                                              vector  \n",
       "0  [-0.28463596, -0.30987197, -1.7421799, -1.7687...  \n",
       "1  [-2.1241229, -1.1775132, 0.33062562, -1.526927...  \n",
       "2  [-0.47314653, 0.48064452, -0.84510803, 0.88004...  \n",
       "3  [-1.5771782, -0.55624425, -2.7827258, 1.444958...  "
      ]
     },
     "execution_count": 19,
     "metadata": {},
     "output_type": "execute_result"
    }
   ],
   "source": [
    "df.head(4)"
   ]
  },
  {
   "cell_type": "code",
   "execution_count": 20,
   "id": "76b71b65",
   "metadata": {
    "execution": {
     "iopub.execute_input": "2023-05-22T12:44:05.724837Z",
     "iopub.status.busy": "2023-05-22T12:44:05.724454Z",
     "iopub.status.idle": "2023-05-22T12:44:06.123668Z",
     "shell.execute_reply": "2023-05-22T12:44:06.122377Z"
    },
    "papermill": {
     "duration": 0.462571,
     "end_time": "2023-05-22T12:44:06.126491",
     "exception": false,
     "start_time": "2023-05-22T12:44:05.663920",
     "status": "completed"
    },
    "tags": []
   },
   "outputs": [],
   "source": [
    "from sklearn.model_selection import train_test_split\n",
    "x_train,x_test,y_train,y_test=train_test_split(df.vector, df.target, test_size=0.2 , random_state=42)\n"
   ]
  },
  {
   "cell_type": "code",
   "execution_count": 21,
   "id": "46595908",
   "metadata": {
    "execution": {
     "iopub.execute_input": "2023-05-22T12:44:06.247958Z",
     "iopub.status.busy": "2023-05-22T12:44:06.247579Z",
     "iopub.status.idle": "2023-05-22T12:44:06.271942Z",
     "shell.execute_reply": "2023-05-22T12:44:06.270917Z"
    },
    "papermill": {
     "duration": 0.088574,
     "end_time": "2023-05-22T12:44:06.274544",
     "exception": false,
     "start_time": "2023-05-22T12:44:06.185970",
     "status": "completed"
    },
    "tags": []
   },
   "outputs": [],
   "source": [
    "x_train_2d=np.stack(x_train)\n",
    "x_test_2d=np.stack(x_test)"
   ]
  },
  {
   "cell_type": "code",
   "execution_count": 22,
   "id": "8bf29573",
   "metadata": {
    "execution": {
     "iopub.execute_input": "2023-05-22T12:44:06.395525Z",
     "iopub.status.busy": "2023-05-22T12:44:06.395086Z",
     "iopub.status.idle": "2023-05-22T12:44:06.402888Z",
     "shell.execute_reply": "2023-05-22T12:44:06.401778Z"
    },
    "papermill": {
     "duration": 0.071043,
     "end_time": "2023-05-22T12:44:06.405216",
     "exception": false,
     "start_time": "2023-05-22T12:44:06.334173",
     "status": "completed"
    },
    "tags": []
   },
   "outputs": [
    {
     "data": {
      "text/plain": [
       "(6090,)"
      ]
     },
     "execution_count": 22,
     "metadata": {},
     "output_type": "execute_result"
    }
   ],
   "source": [
    "x_train.shape"
   ]
  },
  {
   "cell_type": "code",
   "execution_count": 23,
   "id": "56fdc597",
   "metadata": {
    "execution": {
     "iopub.execute_input": "2023-05-22T12:44:06.526938Z",
     "iopub.status.busy": "2023-05-22T12:44:06.526266Z",
     "iopub.status.idle": "2023-05-22T12:44:06.533051Z",
     "shell.execute_reply": "2023-05-22T12:44:06.531995Z"
    },
    "papermill": {
     "duration": 0.070455,
     "end_time": "2023-05-22T12:44:06.535520",
     "exception": false,
     "start_time": "2023-05-22T12:44:06.465065",
     "status": "completed"
    },
    "tags": []
   },
   "outputs": [
    {
     "data": {
      "text/plain": [
       "(6090, 300)"
      ]
     },
     "execution_count": 23,
     "metadata": {},
     "output_type": "execute_result"
    }
   ],
   "source": [
    "x_train_2d.shape"
   ]
  },
  {
   "cell_type": "code",
   "execution_count": 24,
   "id": "995b0d00",
   "metadata": {
    "execution": {
     "iopub.execute_input": "2023-05-22T12:44:06.657267Z",
     "iopub.status.busy": "2023-05-22T12:44:06.656634Z",
     "iopub.status.idle": "2023-05-22T12:44:09.711932Z",
     "shell.execute_reply": "2023-05-22T12:44:09.711002Z"
    },
    "papermill": {
     "duration": 3.118602,
     "end_time": "2023-05-22T12:44:09.714445",
     "exception": false,
     "start_time": "2023-05-22T12:44:06.595843",
     "status": "completed"
    },
    "tags": []
   },
   "outputs": [
    {
     "data": {
      "text/html": [
       "<style>#sk-container-id-1 {color: black;background-color: white;}#sk-container-id-1 pre{padding: 0;}#sk-container-id-1 div.sk-toggleable {background-color: white;}#sk-container-id-1 label.sk-toggleable__label {cursor: pointer;display: block;width: 100%;margin-bottom: 0;padding: 0.3em;box-sizing: border-box;text-align: center;}#sk-container-id-1 label.sk-toggleable__label-arrow:before {content: \"▸\";float: left;margin-right: 0.25em;color: #696969;}#sk-container-id-1 label.sk-toggleable__label-arrow:hover:before {color: black;}#sk-container-id-1 div.sk-estimator:hover label.sk-toggleable__label-arrow:before {color: black;}#sk-container-id-1 div.sk-toggleable__content {max-height: 0;max-width: 0;overflow: hidden;text-align: left;background-color: #f0f8ff;}#sk-container-id-1 div.sk-toggleable__content pre {margin: 0.2em;color: black;border-radius: 0.25em;background-color: #f0f8ff;}#sk-container-id-1 input.sk-toggleable__control:checked~div.sk-toggleable__content {max-height: 200px;max-width: 100%;overflow: auto;}#sk-container-id-1 input.sk-toggleable__control:checked~label.sk-toggleable__label-arrow:before {content: \"▾\";}#sk-container-id-1 div.sk-estimator input.sk-toggleable__control:checked~label.sk-toggleable__label {background-color: #d4ebff;}#sk-container-id-1 div.sk-label input.sk-toggleable__control:checked~label.sk-toggleable__label {background-color: #d4ebff;}#sk-container-id-1 input.sk-hidden--visually {border: 0;clip: rect(1px 1px 1px 1px);clip: rect(1px, 1px, 1px, 1px);height: 1px;margin: -1px;overflow: hidden;padding: 0;position: absolute;width: 1px;}#sk-container-id-1 div.sk-estimator {font-family: monospace;background-color: #f0f8ff;border: 1px dotted black;border-radius: 0.25em;box-sizing: border-box;margin-bottom: 0.5em;}#sk-container-id-1 div.sk-estimator:hover {background-color: #d4ebff;}#sk-container-id-1 div.sk-parallel-item::after {content: \"\";width: 100%;border-bottom: 1px solid gray;flex-grow: 1;}#sk-container-id-1 div.sk-label:hover label.sk-toggleable__label {background-color: #d4ebff;}#sk-container-id-1 div.sk-serial::before {content: \"\";position: absolute;border-left: 1px solid gray;box-sizing: border-box;top: 0;bottom: 0;left: 50%;z-index: 0;}#sk-container-id-1 div.sk-serial {display: flex;flex-direction: column;align-items: center;background-color: white;padding-right: 0.2em;padding-left: 0.2em;position: relative;}#sk-container-id-1 div.sk-item {position: relative;z-index: 1;}#sk-container-id-1 div.sk-parallel {display: flex;align-items: stretch;justify-content: center;background-color: white;position: relative;}#sk-container-id-1 div.sk-item::before, #sk-container-id-1 div.sk-parallel-item::before {content: \"\";position: absolute;border-left: 1px solid gray;box-sizing: border-box;top: 0;bottom: 0;left: 50%;z-index: -1;}#sk-container-id-1 div.sk-parallel-item {display: flex;flex-direction: column;z-index: 1;position: relative;background-color: white;}#sk-container-id-1 div.sk-parallel-item:first-child::after {align-self: flex-end;width: 50%;}#sk-container-id-1 div.sk-parallel-item:last-child::after {align-self: flex-start;width: 50%;}#sk-container-id-1 div.sk-parallel-item:only-child::after {width: 0;}#sk-container-id-1 div.sk-dashed-wrapped {border: 1px dashed gray;margin: 0 0.4em 0.5em 0.4em;box-sizing: border-box;padding-bottom: 0.4em;background-color: white;}#sk-container-id-1 div.sk-label label {font-family: monospace;font-weight: bold;display: inline-block;line-height: 1.2em;}#sk-container-id-1 div.sk-label-container {text-align: center;}#sk-container-id-1 div.sk-container {/* jupyter's `normalize.less` sets `[hidden] { display: none; }` but bootstrap.min.css set `[hidden] { display: none !important; }` so we also need the `!important` here to be able to override the default hidden behavior on the sphinx rendered scikit-learn.org. See: https://github.com/scikit-learn/scikit-learn/issues/21755 */display: inline-block !important;position: relative;}#sk-container-id-1 div.sk-text-repr-fallback {display: none;}</style><div id=\"sk-container-id-1\" class=\"sk-top-container\"><div class=\"sk-text-repr-fallback\"><pre>DecisionTreeClassifier()</pre><b>In a Jupyter environment, please rerun this cell to show the HTML representation or trust the notebook. <br />On GitHub, the HTML representation is unable to render, please try loading this page with nbviewer.org.</b></div><div class=\"sk-container\" hidden><div class=\"sk-item\"><div class=\"sk-estimator sk-toggleable\"><input class=\"sk-toggleable__control sk-hidden--visually\" id=\"sk-estimator-id-1\" type=\"checkbox\" checked><label for=\"sk-estimator-id-1\" class=\"sk-toggleable__label sk-toggleable__label-arrow\">DecisionTreeClassifier</label><div class=\"sk-toggleable__content\"><pre>DecisionTreeClassifier()</pre></div></div></div></div></div>"
      ],
      "text/plain": [
       "DecisionTreeClassifier()"
      ]
     },
     "execution_count": 24,
     "metadata": {},
     "output_type": "execute_result"
    }
   ],
   "source": [
    "from sklearn.tree import DecisionTreeClassifier\n",
    "clf=DecisionTreeClassifier()\n",
    "clf.fit(x_train_2d, y_train)"
   ]
  },
  {
   "cell_type": "code",
   "execution_count": 25,
   "id": "a1c468a6",
   "metadata": {
    "execution": {
     "iopub.execute_input": "2023-05-22T12:44:09.837199Z",
     "iopub.status.busy": "2023-05-22T12:44:09.836501Z",
     "iopub.status.idle": "2023-05-22T12:44:09.841913Z",
     "shell.execute_reply": "2023-05-22T12:44:09.840815Z"
    },
    "papermill": {
     "duration": 0.069537,
     "end_time": "2023-05-22T12:44:09.844189",
     "exception": false,
     "start_time": "2023-05-22T12:44:09.774652",
     "status": "completed"
    },
    "tags": []
   },
   "outputs": [],
   "source": [
    "prediction =clf.predict(x_test_2d)\n",
    "\n"
   ]
  },
  {
   "cell_type": "code",
   "execution_count": 26,
   "id": "5a8fc09b",
   "metadata": {
    "execution": {
     "iopub.execute_input": "2023-05-22T12:44:09.968119Z",
     "iopub.status.busy": "2023-05-22T12:44:09.967458Z",
     "iopub.status.idle": "2023-05-22T12:44:09.983851Z",
     "shell.execute_reply": "2023-05-22T12:44:09.982234Z"
    },
    "papermill": {
     "duration": 0.080893,
     "end_time": "2023-05-22T12:44:09.986547",
     "exception": false,
     "start_time": "2023-05-22T12:44:09.905654",
     "status": "completed"
    },
    "tags": []
   },
   "outputs": [
    {
     "name": "stdout",
     "output_type": "stream",
     "text": [
      "              precision    recall  f1-score   support\n",
      "\n",
      "           0       0.73      0.74      0.73       874\n",
      "           1       0.64      0.63      0.63       649\n",
      "\n",
      "    accuracy                           0.69      1523\n",
      "   macro avg       0.68      0.68      0.68      1523\n",
      "weighted avg       0.69      0.69      0.69      1523\n",
      "\n"
     ]
    }
   ],
   "source": [
    "from sklearn.metrics import classification_report\n",
    "print(classification_report(y_test,prediction))"
   ]
  },
  {
   "cell_type": "code",
   "execution_count": 27,
   "id": "a3a48153",
   "metadata": {
    "execution": {
     "iopub.execute_input": "2023-05-22T12:44:10.110262Z",
     "iopub.status.busy": "2023-05-22T12:44:10.109547Z",
     "iopub.status.idle": "2023-05-22T12:44:10.494085Z",
     "shell.execute_reply": "2023-05-22T12:44:10.492085Z"
    },
    "papermill": {
     "duration": 0.449305,
     "end_time": "2023-05-22T12:44:10.497058",
     "exception": false,
     "start_time": "2023-05-22T12:44:10.047753",
     "status": "completed"
    },
    "tags": []
   },
   "outputs": [
    {
     "name": "stdout",
     "output_type": "stream",
     "text": [
      "              precision    recall  f1-score   support\n",
      "\n",
      "           0       0.78      0.86      0.81       874\n",
      "           1       0.78      0.67      0.72       649\n",
      "\n",
      "    accuracy                           0.78      1523\n",
      "   macro avg       0.78      0.76      0.77      1523\n",
      "weighted avg       0.78      0.78      0.77      1523\n",
      "\n"
     ]
    }
   ],
   "source": [
    "from sklearn.neighbors import KNeighborsClassifier\n",
    "\n",
    "clf=KNeighborsClassifier(n_neighbors=10, metric='euclidean')\n",
    "clf.fit(x_train_2d, y_train)\n",
    "prediction =clf.predict(x_test_2d)\n",
    "print(classification_report(y_test,prediction))"
   ]
  },
  {
   "cell_type": "code",
   "execution_count": 28,
   "id": "86a19b86",
   "metadata": {
    "execution": {
     "iopub.execute_input": "2023-05-22T12:44:10.623492Z",
     "iopub.status.busy": "2023-05-22T12:44:10.622714Z",
     "iopub.status.idle": "2023-05-22T12:44:10.933591Z",
     "shell.execute_reply": "2023-05-22T12:44:10.931775Z"
    },
    "papermill": {
     "duration": 0.378337,
     "end_time": "2023-05-22T12:44:10.936407",
     "exception": false,
     "start_time": "2023-05-22T12:44:10.558070",
     "status": "completed"
    },
    "tags": []
   },
   "outputs": [
    {
     "name": "stdout",
     "output_type": "stream",
     "text": [
      "              precision    recall  f1-score   support\n",
      "\n",
      "           0       0.81      0.86      0.83       874\n",
      "           1       0.79      0.72      0.75       649\n",
      "\n",
      "    accuracy                           0.80      1523\n",
      "   macro avg       0.80      0.79      0.79      1523\n",
      "weighted avg       0.80      0.80      0.80      1523\n",
      "\n"
     ]
    }
   ],
   "source": [
    "from sklearn.neighbors import KNeighborsClassifier\n",
    "\n",
    "clf=KNeighborsClassifier(n_neighbors=10, metric='cosine')\n",
    "clf.fit(x_train_2d, y_train)\n",
    "prediction =clf.predict(x_test_2d)\n",
    "print(classification_report(y_test,prediction))"
   ]
  },
  {
   "cell_type": "code",
   "execution_count": 29,
   "id": "6bdfac6a",
   "metadata": {
    "execution": {
     "iopub.execute_input": "2023-05-22T12:44:11.061156Z",
     "iopub.status.busy": "2023-05-22T12:44:11.059870Z",
     "iopub.status.idle": "2023-05-22T12:44:21.370342Z",
     "shell.execute_reply": "2023-05-22T12:44:21.368825Z"
    },
    "papermill": {
     "duration": 10.375069,
     "end_time": "2023-05-22T12:44:21.372804",
     "exception": false,
     "start_time": "2023-05-22T12:44:10.997735",
     "status": "completed"
    },
    "tags": []
   },
   "outputs": [
    {
     "name": "stdout",
     "output_type": "stream",
     "text": [
      "              precision    recall  f1-score   support\n",
      "\n",
      "           0       0.78      0.88      0.82       874\n",
      "           1       0.80      0.66      0.72       649\n",
      "\n",
      "    accuracy                           0.78      1523\n",
      "   macro avg       0.79      0.77      0.77      1523\n",
      "weighted avg       0.79      0.78      0.78      1523\n",
      "\n"
     ]
    }
   ],
   "source": [
    "from sklearn.ensemble import RandomForestClassifier\n",
    "clf=RandomForestClassifier()\n",
    "clf.fit(x_train_2d, y_train)\n",
    "prediction =clf.predict(x_test_2d)\n",
    "print(classification_report(y_test,prediction))"
   ]
  },
  {
   "cell_type": "code",
   "execution_count": 30,
   "id": "a2053899",
   "metadata": {
    "execution": {
     "iopub.execute_input": "2023-05-22T12:44:21.497059Z",
     "iopub.status.busy": "2023-05-22T12:44:21.496420Z",
     "iopub.status.idle": "2023-05-22T12:44:21.564224Z",
     "shell.execute_reply": "2023-05-22T12:44:21.562489Z"
    },
    "papermill": {
     "duration": 0.134524,
     "end_time": "2023-05-22T12:44:21.568507",
     "exception": false,
     "start_time": "2023-05-22T12:44:21.433983",
     "status": "completed"
    },
    "tags": []
   },
   "outputs": [
    {
     "name": "stdout",
     "output_type": "stream",
     "text": [
      "              precision    recall  f1-score   support\n",
      "\n",
      "           0       0.78      0.88      0.82       874\n",
      "           1       0.80      0.66      0.72       649\n",
      "\n",
      "    accuracy                           0.78      1523\n",
      "   macro avg       0.79      0.77      0.77      1523\n",
      "weighted avg       0.79      0.78      0.78      1523\n",
      "\n"
     ]
    }
   ],
   "source": [
    "from sklearn.naive_bayes import MultinomialNB\n",
    "from sklearn.preprocessing import MinMaxScaler\n",
    "scaler=MinMaxScaler()\n",
    "scaler_train_embed=scaler.fit_transform(x_train_2d)\n",
    "scaler_test_embed=scaler.fit_transform(x_test_2d)\n",
    "clf=MultinomialNB()\n",
    "clf.fit(scaler_train_embed,y_train)\n",
    "pediction =clf.predict(scaler_test_embed)\n",
    "print(classification_report(y_test,prediction))"
   ]
  },
  {
   "cell_type": "code",
   "execution_count": 31,
   "id": "631eb89e",
   "metadata": {
    "execution": {
     "iopub.execute_input": "2023-05-22T12:44:21.741298Z",
     "iopub.status.busy": "2023-05-22T12:44:21.740880Z",
     "iopub.status.idle": "2023-05-22T12:45:32.437024Z",
     "shell.execute_reply": "2023-05-22T12:45:32.436048Z"
    },
    "papermill": {
     "duration": 70.823179,
     "end_time": "2023-05-22T12:45:32.501477",
     "exception": false,
     "start_time": "2023-05-22T12:44:21.678298",
     "status": "completed"
    },
    "tags": []
   },
   "outputs": [
    {
     "name": "stdout",
     "output_type": "stream",
     "text": [
      "              precision    recall  f1-score   support\n",
      "\n",
      "           0       0.81      0.86      0.83       874\n",
      "           1       0.79      0.73      0.76       649\n",
      "\n",
      "    accuracy                           0.80      1523\n",
      "   macro avg       0.80      0.79      0.79      1523\n",
      "weighted avg       0.80      0.80      0.80      1523\n",
      "\n"
     ]
    }
   ],
   "source": [
    "from sklearn.ensemble import GradientBoostingClassifier\n",
    "clf1=GradientBoostingClassifier()\n",
    "clf1.fit(x_train_2d, y_train)\n",
    "prediction =clf1.predict(x_test_2d)\n",
    "print(classification_report(y_test,prediction))"
   ]
  },
  {
   "cell_type": "code",
   "execution_count": 32,
   "id": "51ffb9cd",
   "metadata": {
    "execution": {
     "iopub.execute_input": "2023-05-22T12:45:32.627534Z",
     "iopub.status.busy": "2023-05-22T12:45:32.626259Z",
     "iopub.status.idle": "2023-05-22T12:45:32.637407Z",
     "shell.execute_reply": "2023-05-22T12:45:32.636426Z"
    },
    "papermill": {
     "duration": 0.076845,
     "end_time": "2023-05-22T12:45:32.639744",
     "exception": false,
     "start_time": "2023-05-22T12:45:32.562899",
     "status": "completed"
    },
    "tags": []
   },
   "outputs": [
    {
     "data": {
      "text/plain": [
       "array([[748, 126],\n",
       "       [177, 472]])"
      ]
     },
     "execution_count": 32,
     "metadata": {},
     "output_type": "execute_result"
    }
   ],
   "source": [
    "from sklearn.metrics import confusion_matrix\n",
    "cm=confusion_matrix(y_test,prediction)\n",
    "cm"
   ]
  },
  {
   "cell_type": "code",
   "execution_count": 33,
   "id": "302d1c21",
   "metadata": {
    "execution": {
     "iopub.execute_input": "2023-05-22T12:45:32.768853Z",
     "iopub.status.busy": "2023-05-22T12:45:32.767831Z",
     "iopub.status.idle": "2023-05-22T12:45:33.076942Z",
     "shell.execute_reply": "2023-05-22T12:45:33.075656Z"
    },
    "papermill": {
     "duration": 0.376257,
     "end_time": "2023-05-22T12:45:33.079842",
     "exception": false,
     "start_time": "2023-05-22T12:45:32.703585",
     "status": "completed"
    },
    "tags": []
   },
   "outputs": [
    {
     "data": {
      "text/plain": [
       "Text(58.222222222222214, 0.5, 'Truth')"
      ]
     },
     "execution_count": 33,
     "metadata": {},
     "output_type": "execute_result"
    },
    {
     "data": {
      "image/png": "[encoded data removed]",
      "text/plain": [
       "<Figure size 700x600 with 2 Axes>"
      ]
     },
     "metadata": {},
     "output_type": "display_data"
    }
   ],
   "source": [
    "plt.figure(figsize=(7,6))\n",
    "sns.heatmap(cm , annot=True, fmt='d')\n",
    "plt.xlabel('Prediction')\n",
    "plt.ylabel('Truth')"
   ]
  },
  {
   "cell_type": "code",
   "execution_count": 34,
   "id": "6c39a464",
   "metadata": {
    "execution": {
     "iopub.execute_input": "2023-05-22T12:45:33.207889Z",
     "iopub.status.busy": "2023-05-22T12:45:33.207492Z",
     "iopub.status.idle": "2023-05-22T12:45:33.215351Z",
     "shell.execute_reply": "2023-05-22T12:45:33.214124Z"
    },
    "papermill": {
     "duration": 0.074961,
     "end_time": "2023-05-22T12:45:33.217980",
     "exception": false,
     "start_time": "2023-05-22T12:45:33.143019",
     "status": "completed"
    },
    "tags": []
   },
   "outputs": [
    {
     "data": {
      "text/plain": [
       "(3263,)"
      ]
     },
     "execution_count": 34,
     "metadata": {},
     "output_type": "execute_result"
    }
   ],
   "source": [
    "test_data['id'].shape"
   ]
  },
  {
   "cell_type": "code",
   "execution_count": null,
   "id": "aa017fdf",
   "metadata": {
    "papermill": {
     "duration": 0.062545,
     "end_time": "2023-05-22T12:45:33.343369",
     "exception": false,
     "start_time": "2023-05-22T12:45:33.280824",
     "status": "completed"
    },
    "tags": []
   },
   "outputs": [],
   "source": []
  },
  {
   "cell_type": "code",
   "execution_count": 35,
   "id": "b30cff9f",
   "metadata": {
    "execution": {
     "iopub.execute_input": "2023-05-22T12:45:33.470257Z",
     "iopub.status.busy": "2023-05-22T12:45:33.469861Z",
     "iopub.status.idle": "2023-05-22T12:45:33.477957Z",
     "shell.execute_reply": "2023-05-22T12:45:33.476598Z"
    },
    "papermill": {
     "duration": 0.074821,
     "end_time": "2023-05-22T12:45:33.480540",
     "exception": false,
     "start_time": "2023-05-22T12:45:33.405719",
     "status": "completed"
    },
    "tags": []
   },
   "outputs": [
    {
     "data": {
      "text/plain": [
       "(1523,)"
      ]
     },
     "execution_count": 35,
     "metadata": {},
     "output_type": "execute_result"
    }
   ],
   "source": [
    "x_test.shape"
   ]
  },
  {
   "cell_type": "code",
   "execution_count": 36,
   "id": "28558663",
   "metadata": {
    "execution": {
     "iopub.execute_input": "2023-05-22T12:45:33.608509Z",
     "iopub.status.busy": "2023-05-22T12:45:33.608105Z",
     "iopub.status.idle": "2023-05-22T12:46:08.342676Z",
     "shell.execute_reply": "2023-05-22T12:46:08.341649Z"
    },
    "papermill": {
     "duration": 34.801926,
     "end_time": "2023-05-22T12:46:08.345474",
     "exception": false,
     "start_time": "2023-05-22T12:45:33.543548",
     "status": "completed"
    },
    "tags": []
   },
   "outputs": [],
   "source": [
    "\n",
    "X_test=df1['text'].apply(lambda text: nlp(text).vector)\n"
   ]
  },
  {
   "cell_type": "code",
   "execution_count": 37,
   "id": "13d3b88a",
   "metadata": {
    "execution": {
     "iopub.execute_input": "2023-05-22T12:46:08.472805Z",
     "iopub.status.busy": "2023-05-22T12:46:08.472403Z",
     "iopub.status.idle": "2023-05-22T12:46:08.483785Z",
     "shell.execute_reply": "2023-05-22T12:46:08.482793Z"
    },
    "papermill": {
     "duration": 0.077583,
     "end_time": "2023-05-22T12:46:08.486003",
     "exception": false,
     "start_time": "2023-05-22T12:46:08.408420",
     "status": "completed"
    },
    "tags": []
   },
   "outputs": [],
   "source": [
    "X_test1=np.stack(X_test)\n"
   ]
  },
  {
   "cell_type": "code",
   "execution_count": 38,
   "id": "c4bae996",
   "metadata": {
    "execution": {
     "iopub.execute_input": "2023-05-22T12:46:08.612766Z",
     "iopub.status.busy": "2023-05-22T12:46:08.612067Z",
     "iopub.status.idle": "2023-05-22T12:46:08.628007Z",
     "shell.execute_reply": "2023-05-22T12:46:08.626920Z"
    },
    "papermill": {
     "duration": 0.082049,
     "end_time": "2023-05-22T12:46:08.630442",
     "exception": false,
     "start_time": "2023-05-22T12:46:08.548393",
     "status": "completed"
    },
    "tags": []
   },
   "outputs": [],
   "source": [
    "y_prediction=clf1.predict(X_test1)"
   ]
  },
  {
   "cell_type": "code",
   "execution_count": 39,
   "id": "2fcace41",
   "metadata": {
    "execution": {
     "iopub.execute_input": "2023-05-22T12:46:08.759943Z",
     "iopub.status.busy": "2023-05-22T12:46:08.759256Z",
     "iopub.status.idle": "2023-05-22T12:46:08.778407Z",
     "shell.execute_reply": "2023-05-22T12:46:08.777266Z"
    },
    "papermill": {
     "duration": 0.08873,
     "end_time": "2023-05-22T12:46:08.781373",
     "exception": false,
     "start_time": "2023-05-22T12:46:08.692643",
     "status": "completed"
    },
    "tags": []
   },
   "outputs": [],
   "source": [
    "Submission = pd.DataFrame({'id' : df1['id'],'target':y_prediction})\n",
    "Submission.to_csv('Submission.csv',index=False)\n"
   ]
  },
  {
   "cell_type": "code",
   "execution_count": null,
   "id": "523a15de",
   "metadata": {
    "papermill": {
     "duration": 0.064372,
     "end_time": "2023-05-22T12:46:08.909830",
     "exception": false,
     "start_time": "2023-05-22T12:46:08.845458",
     "status": "completed"
    },
    "tags": []
   },
   "outputs": [],
   "source": []
  },
  {
   "cell_type": "code",
   "execution_count": null,
   "id": "c18ee945",
   "metadata": {
    "papermill": {
     "duration": 0.062182,
     "end_time": "2023-05-22T12:46:09.034470",
     "exception": false,
     "start_time": "2023-05-22T12:46:08.972288",
     "status": "completed"
    },
    "tags": []
   },
   "outputs": [],
   "source": []
  }
 ],
 "metadata": {
  "kernelspec": {
   "display_name": "Python 3",
   "language": "python",
   "name": "python3"
  },
  "language_info": {
   "codemirror_mode": {
    "name": "ipython",
    "version": 3
   },
   "file_extension": ".py",
   "mimetype": "text/x-python",
   "name": "python",
   "nbconvert_exporter": "python",
   "pygments_lexer": "ipython3",
   "version": "3.10.10"
  },
  "papermill": {
   "default_parameters": {},
   "duration": 363.08909,
   "end_time": "2023-05-22T12:46:11.718431",
   "environment_variables": {},
   "exception": null,
   "input_path": "__notebook__.ipynb",
   "output_path": "__notebook__.ipynb",
   "parameters": {},
   "start_time": "2023-05-22T12:40:08.629341",
   "version": "2.4.0"
  }
 },
 "nbformat": 4,
 "nbformat_minor": 5
}
